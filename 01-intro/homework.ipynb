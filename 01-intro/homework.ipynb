{
 "cells": [
  {
   "cell_type": "code",
   "execution_count": 1,
   "id": "3d81d141-9001-48b0-8a8a-7c8d8495c696",
   "metadata": {},
   "outputs": [],
   "source": [
    "import openai"
   ]
  },
  {
   "cell_type": "code",
   "execution_count": 2,
   "id": "bd90df81-63e0-40f1-977c-e394bce0804f",
   "metadata": {},
   "outputs": [],
   "source": [
    "from openai import OpenAI"
   ]
  },
  {
   "cell_type": "code",
   "execution_count": 3,
   "id": "358f9bc0",
   "metadata": {},
   "outputs": [],
   "source": [
    "import os"
   ]
  },
  {
   "cell_type": "code",
   "execution_count": 4,
   "id": "e487d4da",
   "metadata": {},
   "outputs": [],
   "source": [
    "from dotenv import load_dotenv"
   ]
  },
  {
   "cell_type": "code",
   "execution_count": 5,
   "id": "d0e1662a",
   "metadata": {},
   "outputs": [
    {
     "data": {
      "text/plain": [
       "True"
      ]
     },
     "execution_count": 5,
     "metadata": {},
     "output_type": "execute_result"
    }
   ],
   "source": [
    "load_dotenv(os.path.abspath(\"/workspaces/llm-zoomcamp/.env\"))"
   ]
  },
  {
   "cell_type": "code",
   "execution_count": 7,
   "id": "e43aabc8",
   "metadata": {},
   "outputs": [],
   "source": [
    "client = OpenAI(api_key = os.getenv(\"OPENAI_API_KEY\"))"
   ]
  },
  {
   "cell_type": "code",
   "execution_count": null,
   "id": "2dee8583-b897-4b3a-9e88-1cbb57d0cce9",
   "metadata": {},
   "outputs": [],
   "source": [
    "response = client.chat.completions.create(\n",
    "    model='gpt-4.1',\n",
    "    messages=[{\"role\": \"user\", \"content\": \"is it going to rain tomorrow\"}]\n",
    ")    "
   ]
  },
  {
   "cell_type": "code",
   "execution_count": 9,
   "id": "2091e37f-c9dd-49f7-a28f-a7d9d69e951b",
   "metadata": {},
   "outputs": [
    {
     "data": {
      "text/plain": [
       "'I’d be happy to help! However, could you specify which course you are referring to? The answer can depend on the institution, the specific course, and its policies. In general, some courses allow late registration in early June, while others may have closed enrollment. \\n\\nIf you let me know the course name, institution, or provider, I can give you a more precise answer!'"
      ]
     },
     "execution_count": 9,
     "metadata": {},
     "output_type": "execute_result"
    }
   ],
   "source": [
    "response.choices[0].message.content"
   ]
  },
  {
   "cell_type": "code",
   "execution_count": null,
   "id": "c359a18c-89fd-4a16-9cfa-8a1234a901d2",
   "metadata": {},
   "outputs": [],
   "source": []
  }
 ],
 "metadata": {
  "kernelspec": {
   "display_name": "Python 3",
   "language": "python",
   "name": "python3"
  },
  "language_info": {
   "codemirror_mode": {
    "name": "ipython",
    "version": 3
   },
   "file_extension": ".py",
   "mimetype": "text/x-python",
   "name": "python",
   "nbconvert_exporter": "python",
   "pygments_lexer": "ipython3",
   "version": "3.12.1"
  }
 },
 "nbformat": 4,
 "nbformat_minor": 5
}
