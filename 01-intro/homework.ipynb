{
 "cells": [
  {
   "cell_type": "code",
   "execution_count": 1,
   "id": "3d81d141-9001-48b0-8a8a-7c8d8495c696",
   "metadata": {},
   "outputs": [],
   "source": [
    "import openai"
   ]
  },
  {
   "cell_type": "code",
   "execution_count": 2,
   "id": "bd90df81-63e0-40f1-977c-e394bce0804f",
   "metadata": {},
   "outputs": [],
   "source": [
    "from openai import OpenAI"
   ]
  },
  {
   "cell_type": "code",
   "execution_count": 8,
   "id": "a352a4b7-8491-4f1b-830e-8299bfecb8a9",
   "metadata": {},
   "outputs": [],
   "source": [
    "client = OpenAI(api_key='')"
   ]
  },
  {
   "cell_type": "code",
   "execution_count": 6,
   "id": "4ef9b5c8-6aef-4b2a-a7f6-83f7ef6b40eb",
   "metadata": {},
   "outputs": [],
   "source": [
    "import os"
   ]
  },
  {
   "cell_type": "code",
   "execution_count": 12,
   "id": "2dee8583-b897-4b3a-9e88-1cbb57d0cce9",
   "metadata": {},
   "outputs": [],
   "source": [
    "response = client.chat.completions.create(\n",
    "    model='gpt-4.1',\n",
    "    messages=[{\"role\": \"user\", \"content\": \"is it too late to join the course?\"}]\n",
    ")    "
   ]
  },
  {
   "cell_type": "code",
   "execution_count": 16,
   "id": "2091e37f-c9dd-49f7-a28f-a7d9d69e951b",
   "metadata": {},
   "outputs": [
    {
     "data": {
      "text/plain": [
       "\"I'm happy to help! Could you clarify which course you're referring to? If you provide the course name or context, I can give you better information about enrollment timelines and options.\""
      ]
     },
     "execution_count": 16,
     "metadata": {},
     "output_type": "execute_result"
    }
   ],
   "source": [
    "response.choices[0].message.content"
   ]
  },
  {
   "cell_type": "code",
   "execution_count": null,
   "id": "c359a18c-89fd-4a16-9cfa-8a1234a901d2",
   "metadata": {},
   "outputs": [],
   "source": []
  }
 ],
 "metadata": {
  "kernelspec": {
   "display_name": "Python 3",
   "language": "python",
   "name": "python3"
  },
  "language_info": {
   "codemirror_mode": {
    "name": "ipython",
    "version": 3
   },
   "file_extension": ".py",
   "mimetype": "text/x-python",
   "name": "python",
   "nbconvert_exporter": "python",
   "pygments_lexer": "ipython3",
   "version": "3.12.1"
  }
 },
 "nbformat": 4,
 "nbformat_minor": 5
}
