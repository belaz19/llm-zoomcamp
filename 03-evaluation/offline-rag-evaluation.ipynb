{
 "cells": [
  {
   "cell_type": "markdown",
   "id": "82e471cb-7aec-4c00-9eed-36e6f2447eb5",
   "metadata": {},
   "source": [
    "## Load documents with IDs"
   ]
  },
  {
   "cell_type": "code",
   "execution_count": 9,
   "id": "76241162-06cf-4d61-959b-1d36a8678bf3",
   "metadata": {},
   "outputs": [],
   "source": [
    "import requests\n",
    "import pandas as pd\n",
    "\n",
    "url_prefix = 'https://raw.githubusercontent.com/DataTalksClub/llm-zoomcamp/main/03-evaluation/'\n",
    "docs_url = url_prefix + 'search_evaluation/documents-with-ids.json'\n",
    "documents = requests.get(docs_url).json()\n",
    "\n",
    "ground_truth_url = url_prefix + 'search_evaluation/ground-truth-data.csv'\n",
    "df_ground_truth = pd.read_csv(ground_truth_url)\n",
    "df_ground_truth = df_ground_truth[df_ground_truth.course == 'machine-learning-zoomcamp']\n",
    "ground_truth = df_ground_truth.to_dict(orient='records')"
   ]
  },
  {
   "cell_type": "code",
   "execution_count": 10,
   "id": "8adac6b4",
   "metadata": {},
   "outputs": [
    {
     "data": {
      "text/plain": [
       "'https://raw.githubusercontent.com/DataTalksClub/llm-zoomcamp/main/03-evaluation/search_evaluation/ground-truth-data.csv'"
      ]
     },
     "execution_count": 10,
     "metadata": {},
     "output_type": "execute_result"
    }
   ],
   "source": [
    "ground_truth_url"
   ]
  },
  {
   "cell_type": "code",
   "execution_count": 11,
   "id": "f745e802-1cb5-4e77-afa0-a4e276270a62",
   "metadata": {},
   "outputs": [
    {
     "data": {
      "text/plain": [
       "{'text': 'It depends on your background and previous experience with modules. It is expected to require about 5 - 15 hours per week. [source1] [source2]\\nYou can also calculate it yourself using this data and then update this answer.',\n",
       " 'section': 'General course-related questions',\n",
       " 'question': 'Course - \\u200b\\u200bHow many hours per week am I expected to spend on this  course?',\n",
       " 'course': 'data-engineering-zoomcamp',\n",
       " 'id': 'ea739c65'}"
      ]
     },
     "execution_count": 11,
     "metadata": {},
     "output_type": "execute_result"
    }
   ],
   "source": [
    "documents[10]"
   ]
  },
  {
   "cell_type": "code",
   "execution_count": 12,
   "id": "4b830c7b-03a9-44be-93cd-3a0e7da12eed",
   "metadata": {},
   "outputs": [
    {
     "data": {
      "text/plain": [
       "{'question': 'Are sessions recorded if I miss one?',\n",
       " 'course': 'machine-learning-zoomcamp',\n",
       " 'document': '5170565b'}"
      ]
     },
     "execution_count": 12,
     "metadata": {},
     "output_type": "execute_result"
    }
   ],
   "source": [
    "ground_truth[10]"
   ]
  },
  {
   "cell_type": "code",
   "execution_count": 13,
   "id": "7cfd91ec-8ec8-4570-bff7-228c5eb7327b",
   "metadata": {},
   "outputs": [
    {
     "data": {
      "text/plain": [
       "'Everything is recorded, so you won’t miss anything. You will be able to ask your questions for office hours in advance and we will cover them during the live stream. Also, you can always ask questions in Slack.'"
      ]
     },
     "execution_count": 13,
     "metadata": {},
     "output_type": "execute_result"
    }
   ],
   "source": [
    "doc_idx = {d['id']: d for d in documents}\n",
    "doc_idx['5170565b']['text']"
   ]
  },
  {
   "cell_type": "markdown",
   "id": "9042aa10-abed-4009-b7af-769d8b477cd0",
   "metadata": {},
   "source": [
    "## Index data\n",
    "\n",
    "We'll generate embeddings using [the sentence transformers](https://sbert.net/) library, if you don't have it, install it with pip:\n",
    "\n",
    "```bash\n",
    "pip install sentence-transformers\n",
    "```\n",
    "\n",
    "This is a different way of turning sentences into vectors"
   ]
  },
  {
   "cell_type": "code",
   "execution_count": 77,
   "id": "3f61b1fe-f67a-4217-9fbe-5fd57eefd53d",
   "metadata": {},
   "outputs": [],
   "source": [
    "from sentence_transformers import SentenceTransformer\n",
    "\n",
    "model_name = 'multi-qa-MiniLM-L6-cos-v1'\n",
    "model = SentenceTransformer(model_name)"
   ]
  },
  {
   "cell_type": "code",
   "execution_count": 78,
   "id": "5de0858d",
   "metadata": {},
   "outputs": [],
   "source": [
    "from tqdm.auto import tqdm"
   ]
  },
  {
   "cell_type": "code",
   "execution_count": null,
   "id": "8bd33453-4885-4c59-a566-3f5f405e2622",
   "metadata": {},
   "outputs": [
    {
     "name": "stderr",
     "output_type": "stream",
     "text": [
      "100%|██████████| 948/948 [00:46<00:00, 20.32it/s]\n"
     ]
    }
   ],
   "source": [
    "vectors = []\n",
    "\n",
    "for doc in tqdm(documents):\n",
    "    question = doc['question']\n",
    "    text = doc['text']\n",
    "    vector = model.encode(question + ' ' + text)\n",
    "    vectors.append(vector)"
   ]
  },
  {
   "cell_type": "code",
   "execution_count": 16,
   "id": "4ea8cb68-5ac7-40ac-b1ff-d9363effd903",
   "metadata": {},
   "outputs": [],
   "source": [
    "import numpy as np\n",
    "\n",
    "vectors = np.array(vectors)"
   ]
  },
  {
   "cell_type": "code",
   "execution_count": 18,
   "id": "262a6ebf",
   "metadata": {},
   "outputs": [],
   "source": [
    "#%pip install -U minsearch"
   ]
  },
  {
   "cell_type": "code",
   "execution_count": 79,
   "id": "f6edf717",
   "metadata": {},
   "outputs": [
    {
     "name": "stdout",
     "output_type": "stream",
     "text": [
      "0.0.4\n"
     ]
    }
   ],
   "source": [
    "import minsearch\n",
    "import importlib.metadata\n",
    "\n",
    "print(importlib.metadata.version(\"minsearch\"))\n"
   ]
  },
  {
   "cell_type": "code",
   "execution_count": 20,
   "id": "455869e8-9d89-49f2-93fa-208fa044eabc",
   "metadata": {},
   "outputs": [
    {
     "data": {
      "text/plain": [
       "<minsearch.vector.VectorSearch at 0x739ef9f18590>"
      ]
     },
     "execution_count": 20,
     "metadata": {},
     "output_type": "execute_result"
    }
   ],
   "source": [
    "from minsearch import VectorSearch\n",
    "\n",
    "vindex = VectorSearch(keyword_fields=['course'])\n",
    "vindex.fit(vectors, documents)"
   ]
  },
  {
   "cell_type": "markdown",
   "id": "666609c9-93d0-4167-8287-392572eaa762",
   "metadata": {},
   "source": [
    "## Retrieval"
   ]
  },
  {
   "cell_type": "code",
   "execution_count": 80,
   "id": "7de211a5-70c5-463a-8a63-d4e63fdad821",
   "metadata": {},
   "outputs": [],
   "source": [
    "def minsearch_vector_search(vector, course):\n",
    "    return vindex.search(\n",
    "        vector,\n",
    "        filter_dict={'course': course},\n",
    "        num_results=5\n",
    "    )\n",
    "\n",
    "def question_text_vector(q):\n",
    "    question = q['question']\n",
    "    course = q['course']\n",
    "\n",
    "    v_q = model.encode(question)\n",
    "\n",
    "    return minsearch_vector_search(v_q, course)"
   ]
  },
  {
   "cell_type": "code",
   "execution_count": 22,
   "id": "96a7f632-a928-4236-abff-ff2a73d6f463",
   "metadata": {},
   "outputs": [
    {
     "data": {
      "text/plain": [
       "[{'text': 'Everything is recorded, so you won’t miss anything. You will be able to ask your questions for office hours in advance and we will cover them during the live stream. Also, you can always ask questions in Slack.',\n",
       "  'section': 'General course-related questions',\n",
       "  'question': 'What if I miss a session?',\n",
       "  'course': 'machine-learning-zoomcamp',\n",
       "  'id': '5170565b'},\n",
       " {'text': 'The course videos are pre-recorded, you can start watching the course right now.\\nWe will also occasionally have office hours - live sessions where we will answer your questions. The office hours sessions are recorded too.\\nYou can see the office hours as well as the pre-recorded course videos in the course playlist on YouTube.',\n",
       "  'section': 'General course-related questions',\n",
       "  'question': 'Is it going to be live? When?',\n",
       "  'course': 'machine-learning-zoomcamp',\n",
       "  'id': '39fda9f0'},\n",
       " {'text': \"Problem description\\nThe accuracy and the loss are both still the same or nearly the same while training.\\nSolution description\\nIn the homework, you should set class_mode='binary' while reading the data.\\nAlso, problem occurs when you choose the wrong optimizer, batch size, or learning rate\\nAdded by Ekaterina Kutovaia\",\n",
       "  'section': '8. Neural Networks and Deep Learning',\n",
       "  'question': 'The same accuracy on epochs',\n",
       "  'course': 'machine-learning-zoomcamp',\n",
       "  'id': '7d11d5ce'},\n",
       " {'text': '(Hrithik Kumar Advani)',\n",
       "  'section': '2. Machine Learning for Regression',\n",
       "  'question': 'Useful Resource for Missing Data Treatment\\nhttps://www.kaggle.com/code/parulpandey/a-guide-to-handling-missing-values-in-python/notebook',\n",
       "  'course': 'machine-learning-zoomcamp',\n",
       "  'id': '81b8e8d0'},\n",
       " {'text': \"Yes, it's possible. See the previous answer.\",\n",
       "  'section': 'General course-related questions',\n",
       "  'question': 'Will I get a certificate if I missed the midterm project?',\n",
       "  'course': 'machine-learning-zoomcamp',\n",
       "  'id': '1d644223'}]"
      ]
     },
     "execution_count": 22,
     "metadata": {},
     "output_type": "execute_result"
    }
   ],
   "source": [
    "question_text_vector(dict(\n",
    "    question='Are sessions recorded if I miss one?',\n",
    "    course='machine-learning-zoomcamp'\n",
    "))"
   ]
  },
  {
   "cell_type": "markdown",
   "id": "443cb32b-5018-477a-b215-647a1ee0eb9c",
   "metadata": {},
   "source": [
    "## The RAG flow"
   ]
  },
  {
   "cell_type": "code",
   "execution_count": 23,
   "id": "9a155184-278e-4ffe-b4fd-799747a6bc00",
   "metadata": {},
   "outputs": [],
   "source": [
    "def build_prompt(query, search_results):\n",
    "    prompt_template = \"\"\"\n",
    "You're a course teaching assistant. Answer the QUESTION based on the CONTEXT from the FAQ database.\n",
    "Use only the facts from the CONTEXT when answering the QUESTION.\n",
    "\n",
    "QUESTION: {question}\n",
    "\n",
    "CONTEXT: \n",
    "{context}\n",
    "\"\"\".strip()\n",
    "\n",
    "    context = \"\"\n",
    "    \n",
    "    for doc in search_results:\n",
    "        context = context + f\"section: {doc['section']}\\nquestion: {doc['question']}\\nanswer: {doc['text']}\\n\\n\"\n",
    "    \n",
    "    prompt = prompt_template.format(question=query, context=context).strip()\n",
    "    return prompt"
   ]
  },
  {
   "cell_type": "code",
   "execution_count": 81,
   "id": "8f741da6",
   "metadata": {},
   "outputs": [],
   "source": [
    "from openai import OpenAI\n",
    "\n",
    "import os\n",
    "from dotenv import load_dotenv\n",
    "load_dotenv(os.path.abspath(\"/workspaces/llm-zoomcamp/.env\"))\n",
    "\n",
    "client = OpenAI(api_key = os.getenv(\"OPENAI_API_KEY\"))"
   ]
  },
  {
   "cell_type": "code",
   "execution_count": 82,
   "id": "acbc99bb-1a84-42de-82f6-b68b563b7154",
   "metadata": {},
   "outputs": [],
   "source": [
    "def llm(prompt, model='gpt-5'):\n",
    "    response = client.chat.completions.create(\n",
    "        model=model,\n",
    "        messages=[{\"role\": \"user\", \"content\": prompt}]\n",
    "    )\n",
    "    \n",
    "    return response.choices[0].message.content"
   ]
  },
  {
   "cell_type": "code",
   "execution_count": 83,
   "id": "7c025101-f138-44fb-a7fa-2159a426422a",
   "metadata": {},
   "outputs": [],
   "source": [
    "# previously: rag(query: str) -> str\n",
    "def rag(query: dict, model='gpt-5') -> str:\n",
    "    search_results = question_text_vector(query)\n",
    "    prompt = build_prompt(query['question'], search_results)\n",
    "    answer = llm(prompt, model=model)\n",
    "    return answer"
   ]
  },
  {
   "cell_type": "code",
   "execution_count": 27,
   "id": "3e57cdeb-f5e2-4481-8e86-49d70d6adb74",
   "metadata": {},
   "outputs": [
    {
     "data": {
      "text/plain": [
       "{'question': 'Are sessions recorded if I miss one?',\n",
       " 'course': 'machine-learning-zoomcamp',\n",
       " 'document': '5170565b'}"
      ]
     },
     "execution_count": 27,
     "metadata": {},
     "output_type": "execute_result"
    }
   ],
   "source": [
    "ground_truth[10]"
   ]
  },
  {
   "cell_type": "code",
   "execution_count": 28,
   "id": "e5a6ad63-5b55-49c2-a115-cdccc4874720",
   "metadata": {},
   "outputs": [
    {
     "data": {
      "text/plain": [
       "'Yes. Everything is recorded. Course videos are pre‑recorded, and office hours live sessions are recorded too and available in the YouTube course playlist. You can also submit questions for office hours in advance and ask questions in Slack.'"
      ]
     },
     "execution_count": 28,
     "metadata": {},
     "output_type": "execute_result"
    }
   ],
   "source": [
    "rag(ground_truth[10])"
   ]
  },
  {
   "cell_type": "code",
   "execution_count": 29,
   "id": "75123a0b-1aea-467c-84d9-ae5f6f6c2256",
   "metadata": {},
   "outputs": [
    {
     "data": {
      "text/plain": [
       "'Everything is recorded, so you won’t miss anything. You will be able to ask your questions for office hours in advance and we will cover them during the live stream. Also, you can always ask questions in Slack.'"
      ]
     },
     "execution_count": 29,
     "metadata": {},
     "output_type": "execute_result"
    }
   ],
   "source": [
    "doc_idx['5170565b']['text']"
   ]
  },
  {
   "cell_type": "markdown",
   "id": "3c26035e-ea80-4817-93a9-46a6af4eaf91",
   "metadata": {},
   "source": [
    "## Cosine similarity metric"
   ]
  },
  {
   "cell_type": "code",
   "execution_count": 30,
   "id": "754db44d-5e73-4784-9369-707691fb9229",
   "metadata": {},
   "outputs": [
    {
     "data": {
      "text/plain": [
       "np.float32(0.75911725)"
      ]
     },
     "execution_count": 30,
     "metadata": {},
     "output_type": "execute_result"
    }
   ],
   "source": [
    "answer_orig = 'Yes, sessions are recorded if you miss one. Everything is recorded, allowing you to catch up on any missed content. Additionally, you can ask questions in advance for office hours and have them addressed during the live stream. You can also ask questions in Slack.'\n",
    "answer_llm = 'Everything is recorded, so you won’t miss anything. You will be able to ask your questions for office hours in advance and we will cover them during the live stream. Also, you can always ask questions in Slack.'\n",
    "\n",
    "v_llm = model.encode(answer_llm)\n",
    "v_orig = model.encode(answer_orig)\n",
    "\n",
    "v_llm.dot(v_orig)"
   ]
  },
  {
   "cell_type": "code",
   "execution_count": 31,
   "id": "3ffcee32-a7c0-45ea-aca2-845758ed3ee2",
   "metadata": {},
   "outputs": [
    {
     "data": {
      "text/plain": [
       "{'question': 'Where can I sign up for the course?',\n",
       " 'course': 'machine-learning-zoomcamp',\n",
       " 'document': '0227b872'}"
      ]
     },
     "execution_count": 31,
     "metadata": {},
     "output_type": "execute_result"
    }
   ],
   "source": [
    "ground_truth[0]"
   ]
  },
  {
   "cell_type": "code",
   "execution_count": 32,
   "id": "61f7deed-9730-467d-afc7-f053b23fe8e6",
   "metadata": {},
   "outputs": [
    {
     "data": {
      "text/plain": [
       "1830"
      ]
     },
     "execution_count": 32,
     "metadata": {},
     "output_type": "execute_result"
    }
   ],
   "source": [
    "len(ground_truth)"
   ]
  },
  {
   "cell_type": "code",
   "execution_count": 34,
   "id": "db605e72-f5cf-4402-ab78-4fd831a1c6de",
   "metadata": {},
   "outputs": [],
   "source": [
    "answers = {}"
   ]
  },
  {
   "cell_type": "code",
   "execution_count": null,
   "id": "9e470ca3-6c27-4a62-a1d9-6ea9fc3e84f5",
   "metadata": {},
   "outputs": [
    {
     "data": {
      "application/vnd.jupyter.widget-view+json": {
       "model_id": "d1efc298fef64d548d940bd31ef5b80c",
       "version_major": 2,
       "version_minor": 0
      },
      "text/plain": [
       "  0%|          | 0/1830 [00:00<?, ?it/s]"
      ]
     },
     "metadata": {},
     "output_type": "display_data"
    }
   ],
   "source": [
    "# for i, rec in enumerate(tqdm(ground_truth)):\n",
    "#     if i in answers:\n",
    "#         continue\n",
    "\n",
    "#     answer_llm = rag(rec)\n",
    "#     doc_id = rec['document']\n",
    "#     original_doc = doc_idx[doc_id]\n",
    "#     answer_orig = original_doc['text']\n",
    "\n",
    "#     answers[i] = {\n",
    "#         'answer_llm': answer_llm,\n",
    "#         'answer_orig': answer_orig,\n",
    "#         'document': doc_id,\n",
    "#         'question': rec['question'],\n",
    "#         'course': rec['course'],\n",
    "#     }"
   ]
  },
  {
   "cell_type": "code",
   "execution_count": 107,
   "id": "2b63fb6d-f125-42b4-a634-52c3c17e582d",
   "metadata": {
    "scrolled": true
   },
   "outputs": [],
   "source": [
    "results_gpt4o = [None] * len(ground_truth)\n",
    "\n",
    "for i, val in answers.items():\n",
    "    results_gpt4o[i] = val.copy()\n",
    "    results_gpt4o[i].update(ground_truth[i])"
   ]
  },
  {
   "cell_type": "code",
   "execution_count": 95,
   "id": "3d68aec3-c05f-447d-9795-eb6c82c439ae",
   "metadata": {},
   "outputs": [],
   "source": [
    "import pandas as pd"
   ]
  },
  {
   "cell_type": "code",
   "execution_count": 110,
   "id": "141bf0e3-b25d-474f-a633-53d4189daf77",
   "metadata": {},
   "outputs": [],
   "source": [
    "df_gpt4o = pd.DataFrame(results_gpt4o)"
   ]
  },
  {
   "cell_type": "code",
   "execution_count": 112,
   "id": "3804e23f-e75d-41c1-9ab9-b2691c3c3a8e",
   "metadata": {},
   "outputs": [],
   "source": [
    "!mkdir data"
   ]
  },
  {
   "cell_type": "code",
   "execution_count": 113,
   "id": "7d923470-0433-4b3d-890c-813161550efb",
   "metadata": {},
   "outputs": [],
   "source": [
    "df_gpt4o.to_csv('data/results-gpt4o.csv', index=False)"
   ]
  },
  {
   "cell_type": "markdown",
   "id": "55f32fc1-96f2-45c8-b22f-45c72c0786e0",
   "metadata": {},
   "source": [
    "## Evaluating GPT 3.5"
   ]
  },
  {
   "cell_type": "code",
   "execution_count": 119,
   "id": "e6678220-4686-41d2-9d6b-878498728cce",
   "metadata": {},
   "outputs": [
    {
     "data": {
      "text/plain": [
       "\"No, sessions are recorded so if you miss one, you won't miss anything.\""
      ]
     },
     "execution_count": 119,
     "metadata": {},
     "output_type": "execute_result"
    }
   ],
   "source": [
    "rag(ground_truth[10], model='gpt-3.5-turbo')"
   ]
  },
  {
   "cell_type": "code",
   "execution_count": 120,
   "id": "bfdc6e3c-a9d4-4ae8-8379-c9c90efc23b6",
   "metadata": {},
   "outputs": [],
   "source": [
    "from tqdm.auto import tqdm\n",
    "\n",
    "from concurrent.futures import ThreadPoolExecutor\n",
    "\n",
    "pool = ThreadPoolExecutor(max_workers=6)\n",
    "\n",
    "def map_progress(pool, seq, f):\n",
    "    results = []\n",
    "\n",
    "    with tqdm(total=len(seq)) as progress:\n",
    "        futures = []\n",
    "\n",
    "        for el in seq:\n",
    "            future = pool.submit(f, el)\n",
    "            future.add_done_callback(lambda p: progress.update())\n",
    "            futures.append(future)\n",
    "\n",
    "        for future in futures:\n",
    "            result = future.result()\n",
    "            results.append(result)\n",
    "\n",
    "    return results"
   ]
  },
  {
   "cell_type": "code",
   "execution_count": 121,
   "id": "9c725d15-c355-4978-b598-81526fe298ec",
   "metadata": {},
   "outputs": [],
   "source": [
    "def process_record(rec):\n",
    "    model = 'gpt-3.5-turbo'\n",
    "    answer_llm = rag(rec, model=model)\n",
    "    \n",
    "    doc_id = rec['document']\n",
    "    original_doc = doc_idx[doc_id]\n",
    "    answer_orig = original_doc['text']\n",
    "\n",
    "    return {\n",
    "        'answer_llm': answer_llm,\n",
    "        'answer_orig': answer_orig,\n",
    "        'document': doc_id,\n",
    "        'question': rec['question'],\n",
    "        'course': rec['course'],\n",
    "    }"
   ]
  },
  {
   "cell_type": "code",
   "execution_count": 122,
   "id": "dfd12868-c71e-45da-9557-d22f720c04a5",
   "metadata": {},
   "outputs": [
    {
     "data": {
      "text/plain": [
       "{'answer_llm': 'Yes, sessions are recorded if you miss one. Everything is recorded, so you won’t miss anything, and you can also ask questions for office hours in advance which will be covered during the live stream. You can always ask questions in Slack as well.',\n",
       " 'answer_orig': 'Everything is recorded, so you won’t miss anything. You will be able to ask your questions for office hours in advance and we will cover them during the live stream. Also, you can always ask questions in Slack.',\n",
       " 'document': '5170565b',\n",
       " 'question': 'Are sessions recorded if I miss one?',\n",
       " 'course': 'machine-learning-zoomcamp'}"
      ]
     },
     "execution_count": 122,
     "metadata": {},
     "output_type": "execute_result"
    }
   ],
   "source": [
    "process_record(ground_truth[10])"
   ]
  },
  {
   "cell_type": "code",
   "execution_count": 123,
   "id": "0a0f73f6-7542-4351-9839-ba3129d0da44",
   "metadata": {},
   "outputs": [
    {
     "data": {
      "application/vnd.jupyter.widget-view+json": {
       "model_id": "2b793df233b741e59fe0522827af5c5e",
       "version_major": 2,
       "version_minor": 0
      },
      "text/plain": [
       "  0%|          | 0/1830 [00:00<?, ?it/s]"
      ]
     },
     "metadata": {},
     "output_type": "display_data"
    }
   ],
   "source": [
    "results_gpt35 = map_progress(pool, ground_truth, process_record)"
   ]
  },
  {
   "cell_type": "code",
   "execution_count": 124,
   "id": "79eaa48a-7b55-4ff3-a4d5-16ce0e4fedd0",
   "metadata": {},
   "outputs": [],
   "source": [
    "df_gpt35 = pd.DataFrame(results_gpt35)\n",
    "df_gpt35.to_csv('data/results-gpt35.csv', index=False)"
   ]
  },
  {
   "cell_type": "code",
   "execution_count": 125,
   "id": "b8a88bd2-7553-4222-8efc-530860f0c31a",
   "metadata": {},
   "outputs": [
    {
     "name": "stdout",
     "output_type": "stream",
     "text": [
      "answer_llm,answer_orig,document,question,course\n",
      "You can sign up for the course by going to the course page at http://mlzoomcamp.com/ and scrolling down to access the course materials.,\"Machine Learning Zoomcamp FAQ\n",
      "The purpose of this document is to capture frequently asked technical questions.\n",
      "We did this for our data engineering course and it worked quite well. Check this document for inspiration on how to structure your questions and answers:\n",
      "Data Engineering Zoomcamp FAQ\n",
      "In the course GitHub repository thereâ€™s a link. Here it is: https://airtable.com/shryxwLd0COOEaqXo\n",
      "work\",0227b872,Where can I sign up for the course?,machine-learning-zoomcamp\n",
      "\"I am sorry, but there is no direct link provided in the FAQ database for signing up for the course. However, you can find a link in the course GitHub repository at this address: https://airtable.com/shryxwLd0COOEaqXo.\",\"Machine Learning Zoomcamp FAQ\n",
      "The purpose of this document is to capture frequently asked technical questions.\n",
      "We did this for our data engineering course and it worked quite well. Check this document for inspiration on how to structure your questions and answers:\n"
     ]
    }
   ],
   "source": [
    "!head data/results-gpt35.csv"
   ]
  },
  {
   "cell_type": "markdown",
   "id": "67827816-f598-41c9-9bee-b312e117a32a",
   "metadata": {},
   "source": [
    "## Cosine similarity\n",
    "\n",
    "A->Q->A' cosine similarity\n",
    "\n",
    "A -> Q -> A'\n",
    "\n",
    "cosine(A, A')\n",
    "\n",
    "### gpt-4o"
   ]
  },
  {
   "cell_type": "code",
   "execution_count": 64,
   "id": "b5bcd222",
   "metadata": {},
   "outputs": [],
   "source": [
    "import pandas as pd"
   ]
  },
  {
   "cell_type": "code",
   "execution_count": 36,
   "id": "031800a7",
   "metadata": {},
   "outputs": [],
   "source": [
    "df_gpt4o = pd.read_csv('results-gpt4o.csv')"
   ]
  },
  {
   "cell_type": "code",
   "execution_count": 37,
   "id": "ef25e259",
   "metadata": {},
   "outputs": [
    {
     "data": {
      "text/html": [
       "<div>\n",
       "<style scoped>\n",
       "    .dataframe tbody tr th:only-of-type {\n",
       "        vertical-align: middle;\n",
       "    }\n",
       "\n",
       "    .dataframe tbody tr th {\n",
       "        vertical-align: top;\n",
       "    }\n",
       "\n",
       "    .dataframe thead th {\n",
       "        text-align: right;\n",
       "    }\n",
       "</style>\n",
       "<table border=\"1\" class=\"dataframe\">\n",
       "  <thead>\n",
       "    <tr style=\"text-align: right;\">\n",
       "      <th></th>\n",
       "      <th>answer_llm</th>\n",
       "      <th>answer_orig</th>\n",
       "      <th>document</th>\n",
       "      <th>question</th>\n",
       "      <th>course</th>\n",
       "    </tr>\n",
       "  </thead>\n",
       "  <tbody>\n",
       "    <tr>\n",
       "      <th>0</th>\n",
       "      <td>The CONTEXT provided does not give specific in...</td>\n",
       "      <td>Machine Learning Zoomcamp FAQ\\nThe purpose of ...</td>\n",
       "      <td>0227b872</td>\n",
       "      <td>Where can I sign up for the course?</td>\n",
       "      <td>machine-learning-zoomcamp</td>\n",
       "    </tr>\n",
       "    <tr>\n",
       "      <th>1</th>\n",
       "      <td>You can sign up for the Machine Learning Zoomc...</td>\n",
       "      <td>Machine Learning Zoomcamp FAQ\\nThe purpose of ...</td>\n",
       "      <td>0227b872</td>\n",
       "      <td>Can you provide a link to sign up?</td>\n",
       "      <td>machine-learning-zoomcamp</td>\n",
       "    </tr>\n",
       "    <tr>\n",
       "      <th>2</th>\n",
       "      <td>Yes, there is an FAQ for the Machine Learning ...</td>\n",
       "      <td>Machine Learning Zoomcamp FAQ\\nThe purpose of ...</td>\n",
       "      <td>0227b872</td>\n",
       "      <td>Is there an FAQ for this Machine Learning course?</td>\n",
       "      <td>machine-learning-zoomcamp</td>\n",
       "    </tr>\n",
       "    <tr>\n",
       "      <th>3</th>\n",
       "      <td>No, the provided context does not include any ...</td>\n",
       "      <td>Machine Learning Zoomcamp FAQ\\nThe purpose of ...</td>\n",
       "      <td>0227b872</td>\n",
       "      <td>Does this course have a GitHub repository for ...</td>\n",
       "      <td>machine-learning-zoomcamp</td>\n",
       "    </tr>\n",
       "    <tr>\n",
       "      <th>4</th>\n",
       "      <td>To structure your questions and answers for th...</td>\n",
       "      <td>Machine Learning Zoomcamp FAQ\\nThe purpose of ...</td>\n",
       "      <td>0227b872</td>\n",
       "      <td>How can I structure my questions and answers f...</td>\n",
       "      <td>machine-learning-zoomcamp</td>\n",
       "    </tr>\n",
       "    <tr>\n",
       "      <th>...</th>\n",
       "      <td>...</td>\n",
       "      <td>...</td>\n",
       "      <td>...</td>\n",
       "      <td>...</td>\n",
       "      <td>...</td>\n",
       "    </tr>\n",
       "    <tr>\n",
       "      <th>1825</th>\n",
       "      <td>Some suggested titles for listing the Machine ...</td>\n",
       "      <td>I’ve seen LinkedIn users list DataTalksClub as...</td>\n",
       "      <td>c6a22665</td>\n",
       "      <td>What are some suggested titles for listing the...</td>\n",
       "      <td>machine-learning-zoomcamp</td>\n",
       "    </tr>\n",
       "    <tr>\n",
       "      <th>1826</th>\n",
       "      <td>It is not advised to list your Machine Learnin...</td>\n",
       "      <td>I’ve seen LinkedIn users list DataTalksClub as...</td>\n",
       "      <td>c6a22665</td>\n",
       "      <td>Should I list the Machine Learning Zoomcamp ex...</td>\n",
       "      <td>machine-learning-zoomcamp</td>\n",
       "    </tr>\n",
       "    <tr>\n",
       "      <th>1827</th>\n",
       "      <td>You can incorporate your Machine Learning Zoom...</td>\n",
       "      <td>I’ve seen LinkedIn users list DataTalksClub as...</td>\n",
       "      <td>c6a22665</td>\n",
       "      <td>In which LinkedIn sections can I incorporate m...</td>\n",
       "      <td>machine-learning-zoomcamp</td>\n",
       "    </tr>\n",
       "    <tr>\n",
       "      <th>1828</th>\n",
       "      <td>Ani Mkrtumyan provided the advice on including...</td>\n",
       "      <td>I’ve seen LinkedIn users list DataTalksClub as...</td>\n",
       "      <td>c6a22665</td>\n",
       "      <td>Who gave advice on including a project link in...</td>\n",
       "      <td>machine-learning-zoomcamp</td>\n",
       "    </tr>\n",
       "    <tr>\n",
       "      <th>1829</th>\n",
       "      <td>Ani Mkrtumyan suggested showcasing progress th...</td>\n",
       "      <td>I’ve seen LinkedIn users list DataTalksClub as...</td>\n",
       "      <td>c6a22665</td>\n",
       "      <td>Who suggested showcasing progress through Link...</td>\n",
       "      <td>machine-learning-zoomcamp</td>\n",
       "    </tr>\n",
       "  </tbody>\n",
       "</table>\n",
       "<p>1830 rows × 5 columns</p>\n",
       "</div>"
      ],
      "text/plain": [
       "                                             answer_llm  \\\n",
       "0     The CONTEXT provided does not give specific in...   \n",
       "1     You can sign up for the Machine Learning Zoomc...   \n",
       "2     Yes, there is an FAQ for the Machine Learning ...   \n",
       "3     No, the provided context does not include any ...   \n",
       "4     To structure your questions and answers for th...   \n",
       "...                                                 ...   \n",
       "1825  Some suggested titles for listing the Machine ...   \n",
       "1826  It is not advised to list your Machine Learnin...   \n",
       "1827  You can incorporate your Machine Learning Zoom...   \n",
       "1828  Ani Mkrtumyan provided the advice on including...   \n",
       "1829  Ani Mkrtumyan suggested showcasing progress th...   \n",
       "\n",
       "                                            answer_orig  document  \\\n",
       "0     Machine Learning Zoomcamp FAQ\\nThe purpose of ...  0227b872   \n",
       "1     Machine Learning Zoomcamp FAQ\\nThe purpose of ...  0227b872   \n",
       "2     Machine Learning Zoomcamp FAQ\\nThe purpose of ...  0227b872   \n",
       "3     Machine Learning Zoomcamp FAQ\\nThe purpose of ...  0227b872   \n",
       "4     Machine Learning Zoomcamp FAQ\\nThe purpose of ...  0227b872   \n",
       "...                                                 ...       ...   \n",
       "1825  I’ve seen LinkedIn users list DataTalksClub as...  c6a22665   \n",
       "1826  I’ve seen LinkedIn users list DataTalksClub as...  c6a22665   \n",
       "1827  I’ve seen LinkedIn users list DataTalksClub as...  c6a22665   \n",
       "1828  I’ve seen LinkedIn users list DataTalksClub as...  c6a22665   \n",
       "1829  I’ve seen LinkedIn users list DataTalksClub as...  c6a22665   \n",
       "\n",
       "                                               question  \\\n",
       "0                   Where can I sign up for the course?   \n",
       "1                    Can you provide a link to sign up?   \n",
       "2     Is there an FAQ for this Machine Learning course?   \n",
       "3     Does this course have a GitHub repository for ...   \n",
       "4     How can I structure my questions and answers f...   \n",
       "...                                                 ...   \n",
       "1825  What are some suggested titles for listing the...   \n",
       "1826  Should I list the Machine Learning Zoomcamp ex...   \n",
       "1827  In which LinkedIn sections can I incorporate m...   \n",
       "1828  Who gave advice on including a project link in...   \n",
       "1829  Who suggested showcasing progress through Link...   \n",
       "\n",
       "                         course  \n",
       "0     machine-learning-zoomcamp  \n",
       "1     machine-learning-zoomcamp  \n",
       "2     machine-learning-zoomcamp  \n",
       "3     machine-learning-zoomcamp  \n",
       "4     machine-learning-zoomcamp  \n",
       "...                         ...  \n",
       "1825  machine-learning-zoomcamp  \n",
       "1826  machine-learning-zoomcamp  \n",
       "1827  machine-learning-zoomcamp  \n",
       "1828  machine-learning-zoomcamp  \n",
       "1829  machine-learning-zoomcamp  \n",
       "\n",
       "[1830 rows x 5 columns]"
      ]
     },
     "execution_count": 37,
     "metadata": {},
     "output_type": "execute_result"
    }
   ],
   "source": [
    "df_gpt4o"
   ]
  },
  {
   "cell_type": "code",
   "execution_count": 38,
   "id": "2af96a0d-627a-4f32-9965-c90ba542d65c",
   "metadata": {},
   "outputs": [],
   "source": [
    "results_gpt4o = df_gpt4o.to_dict(orient='records')"
   ]
  },
  {
   "cell_type": "code",
   "execution_count": 39,
   "id": "6612f547",
   "metadata": {},
   "outputs": [
    {
     "data": {
      "text/plain": [
       "1830"
      ]
     },
     "execution_count": 39,
     "metadata": {},
     "output_type": "execute_result"
    }
   ],
   "source": [
    "len(results_gpt4o)"
   ]
  },
  {
   "cell_type": "code",
   "execution_count": 40,
   "id": "e8bfb5a3-06da-4459-bbc4-eed5ed1a84ce",
   "metadata": {},
   "outputs": [],
   "source": [
    "record = results_gpt4o[0]"
   ]
  },
  {
   "cell_type": "code",
   "execution_count": 41,
   "id": "453b5a1d-a0cc-4023-aa74-de23a65ce71c",
   "metadata": {},
   "outputs": [],
   "source": [
    "def compute_similarity(record):\n",
    "    answer_orig = record['answer_orig']\n",
    "    answer_llm = record['answer_llm']\n",
    "    \n",
    "    v_llm = model.encode(answer_llm)\n",
    "    v_orig = model.encode(answer_orig)\n",
    "    \n",
    "    return v_llm.dot(v_orig)"
   ]
  },
  {
   "cell_type": "code",
   "execution_count": 42,
   "id": "9b70aad3-71f4-46a4-81df-9c34ecfa6283",
   "metadata": {},
   "outputs": [
    {
     "name": "stderr",
     "output_type": "stream",
     "text": [
      "100%|██████████| 1830/1830 [02:12<00:00, 13.76it/s]\n"
     ]
    }
   ],
   "source": [
    "similarity = []\n",
    "\n",
    "for record in tqdm(results_gpt4o):\n",
    "    sim = compute_similarity(record)\n",
    "    similarity.append(sim)"
   ]
  },
  {
   "cell_type": "code",
   "execution_count": 43,
   "id": "39e10c57-34a0-41bf-9867-10a50fc6d9ac",
   "metadata": {},
   "outputs": [
    {
     "data": {
      "text/plain": [
       "count    1830.000000\n",
       "mean        0.679129\n",
       "std         0.217995\n",
       "min        -0.153426\n",
       "25%         0.591460\n",
       "50%         0.734788\n",
       "75%         0.835390\n",
       "max         0.995339\n",
       "Name: cosine, dtype: float64"
      ]
     },
     "execution_count": 43,
     "metadata": {},
     "output_type": "execute_result"
    }
   ],
   "source": [
    "df_gpt4o['cosine'] = similarity\n",
    "df_gpt4o['cosine'].describe()"
   ]
  },
  {
   "cell_type": "code",
   "execution_count": 44,
   "id": "96b69a9a-ecd6-43fa-85da-e4ca00bdc61b",
   "metadata": {},
   "outputs": [],
   "source": [
    "import seaborn as sns"
   ]
  },
  {
   "cell_type": "code",
   "execution_count": 45,
   "id": "6cf79a09",
   "metadata": {},
   "outputs": [
    {
     "data": {
      "text/plain": [
       "<seaborn.axisgrid.FacetGrid at 0x739efa46db50>"
      ]
     },
     "execution_count": 45,
     "metadata": {},
     "output_type": "execute_result"
    },
    {
     "data": {
      "image/png": "[encoded data removed]",
      "text/plain": [
       "<Figure size 500x500 with 1 Axes>"
      ]
     },
     "metadata": {},
     "output_type": "display_data"
    }
   ],
   "source": [
    "sns.displot(df_gpt4o['cosine'])"
   ]
  },
  {
   "cell_type": "markdown",
   "id": "0651cb0c-96f7-449e-93a4-66f1e6e1c31d",
   "metadata": {},
   "source": [
    "### gpt-3.5-turbo"
   ]
  },
  {
   "cell_type": "code",
   "execution_count": 146,
   "id": "3f497b01-c8c6-4809-8ac8-2be8db0ca578",
   "metadata": {},
   "outputs": [
    {
     "data": {
      "application/vnd.jupyter.widget-view+json": {
       "model_id": "696d1c115310441aadc8eebf7aa69760",
       "version_major": 2,
       "version_minor": 0
      },
      "text/plain": [
       "  0%|          | 0/1830 [00:00<?, ?it/s]"
      ]
     },
     "metadata": {},
     "output_type": "display_data"
    }
   ],
   "source": [
    "results_gpt35 = df_gpt35.to_dict(orient='records')\n",
    "\n",
    "similarity_35 = []\n",
    "\n",
    "for record in tqdm(results_gpt35):\n",
    "    sim = compute_similarity(record)\n",
    "    similarity_35.append(sim)"
   ]
  },
  {
   "cell_type": "code",
   "execution_count": 147,
   "id": "524528a3-1651-4200-8240-badcaeee67ec",
   "metadata": {},
   "outputs": [
    {
     "data": {
      "text/plain": [
       "count    1830.000000\n",
       "mean        0.657599\n",
       "std         0.226062\n",
       "min        -0.168921\n",
       "25%         0.546504\n",
       "50%         0.714783\n",
       "75%         0.817262\n",
       "max         1.000000\n",
       "Name: cosine, dtype: float64"
      ]
     },
     "execution_count": 147,
     "metadata": {},
     "output_type": "execute_result"
    }
   ],
   "source": [
    "df_gpt35['cosine'] = similarity_35\n",
    "df_gpt35['cosine'].describe()"
   ]
  },
  {
   "cell_type": "code",
   "execution_count": 149,
   "id": "41e8a2ab-af71-48ea-8128-724160150592",
   "metadata": {},
   "outputs": [],
   "source": [
    "import matplotlib.pyplot as plt"
   ]
  },
  {
   "cell_type": "markdown",
   "id": "588d15df-d806-40d9-938d-d4abdb3b645c",
   "metadata": {},
   "source": [
    "### gpt-4o-mini"
   ]
  },
  {
   "cell_type": "code",
   "execution_count": 151,
   "id": "17e1ff94-5cea-4d36-b80c-ba31026663d7",
   "metadata": {},
   "outputs": [],
   "source": [
    "def process_record_4o_mini(rec):\n",
    "    model = 'gpt-4o-mini'\n",
    "    answer_llm = rag(rec, model=model)\n",
    "    \n",
    "    doc_id = rec['document']\n",
    "    original_doc = doc_idx[doc_id]\n",
    "    answer_orig = original_doc['text']\n",
    "\n",
    "    return {\n",
    "        'answer_llm': answer_llm,\n",
    "        'answer_orig': answer_orig,\n",
    "        'document': doc_id,\n",
    "        'question': rec['question'],\n",
    "        'course': rec['course'],\n",
    "    }"
   ]
  },
  {
   "cell_type": "code",
   "execution_count": 152,
   "id": "2e24207e-9ca8-4717-9e71-c0d3d0f62046",
   "metadata": {},
   "outputs": [
    {
     "data": {
      "text/plain": [
       "{'answer_llm': \"Yes, sessions are recorded, so if you miss one, you won't miss anything. You can catch up by watching the recorded sessions later. Additionally, you have the option to ask questions in advance for office hours, which will also be recorded.\",\n",
       " 'answer_orig': 'Everything is recorded, so you won’t miss anything. You will be able to ask your questions for office hours in advance and we will cover them during the live stream. Also, you can always ask questions in Slack.',\n",
       " 'document': '5170565b',\n",
       " 'question': 'Are sessions recorded if I miss one?',\n",
       " 'course': 'machine-learning-zoomcamp'}"
      ]
     },
     "execution_count": 152,
     "metadata": {},
     "output_type": "execute_result"
    }
   ],
   "source": [
    "process_record_4o_mini(ground_truth[10])"
   ]
  },
  {
   "cell_type": "code",
   "execution_count": null,
   "id": "c7d54408-6264-4ecf-8f71-d637706c1be3",
   "metadata": {},
   "outputs": [],
   "source": [
    "results_gpt4omini = []"
   ]
  },
  {
   "cell_type": "code",
   "execution_count": 157,
   "id": "6fecebc2-d7c6-4474-b17c-5732f47fe366",
   "metadata": {},
   "outputs": [
    {
     "data": {
      "application/vnd.jupyter.widget-view+json": {
       "model_id": "66d49b2bff16465695171cef821b2c4b",
       "version_major": 2,
       "version_minor": 0
      },
      "text/plain": [
       "  0%|          | 0/1830 [00:00<?, ?it/s]"
      ]
     },
     "metadata": {},
     "output_type": "display_data"
    }
   ],
   "source": [
    "for record in tqdm(ground_truth):\n",
    "    result = process_record_4o_mini(record)\n",
    "    results_gpt4omini.append(result)"
   ]
  },
  {
   "cell_type": "code",
   "execution_count": 160,
   "id": "028defb1-9250-49c8-8c93-432e94a77763",
   "metadata": {},
   "outputs": [],
   "source": [
    "df_gpt4o_mini = pd.DataFrame(results_gpt4omini)\n",
    "df_gpt4o_mini.to_csv('data/results-gpt4o-mini.csv', index=False)"
   ]
  },
  {
   "cell_type": "code",
   "execution_count": 161,
   "id": "d4fc4de4-0622-4bcd-b0ff-61d9954842ab",
   "metadata": {},
   "outputs": [
    {
     "data": {
      "application/vnd.jupyter.widget-view+json": {
       "model_id": "e40ff4a2e0944333926f288ac066b45d",
       "version_major": 2,
       "version_minor": 0
      },
      "text/plain": [
       "  0%|          | 0/1830 [00:00<?, ?it/s]"
      ]
     },
     "metadata": {},
     "output_type": "display_data"
    }
   ],
   "source": [
    "similarity_4o_mini = []\n",
    "\n",
    "for record in tqdm(results_gpt4omini):\n",
    "    sim = compute_similarity(record)\n",
    "    similarity_4o_mini.append(sim)"
   ]
  },
  {
   "cell_type": "code",
   "execution_count": 162,
   "id": "22cd9af3-d3ca-4ab3-bbe1-1b8665aaeece",
   "metadata": {},
   "outputs": [
    {
     "data": {
      "text/plain": [
       "count    1830.000000\n",
       "mean        0.680332\n",
       "std         0.215962\n",
       "min        -0.141910\n",
       "25%         0.585866\n",
       "50%         0.733998\n",
       "75%         0.836750\n",
       "max         0.982701\n",
       "Name: cosine, dtype: float64"
      ]
     },
     "execution_count": 162,
     "metadata": {},
     "output_type": "execute_result"
    }
   ],
   "source": [
    "df_gpt4o_mini['cosine'] = similarity_4o_mini\n",
    "df_gpt4o_mini['cosine'].describe()"
   ]
  },
  {
   "cell_type": "markdown",
   "id": "f5478e7d-015e-4356-8e8d-f68dcf3ca156",
   "metadata": {},
   "source": [
    "gpt4o \n",
    "\n",
    "```\n",
    "count    1830.000000\n",
    "mean        0.679129\n",
    "std         0.217995\n",
    "min        -0.153426\n",
    "25%         0.591460\n",
    "50%         0.734788\n",
    "75%         0.835390\n",
    "max         0.995339\n",
    "Name: cosine, dtype: float64\n",
    "```"
   ]
  },
  {
   "cell_type": "code",
   "execution_count": 250,
   "id": "145be2b7-d84d-47cf-b39e-6241dc20b535",
   "metadata": {},
   "outputs": [
    {
     "name": "stderr",
     "output_type": "stream",
     "text": [
      "C:\\Users\\alexe\\AppData\\Local\\Temp\\ipykernel_8108\\4043211035.py:3: UserWarning: \n",
      "\n",
      "`distplot` is a deprecated function and will be removed in seaborn v0.14.0.\n",
      "\n",
      "Please adapt your code to use either `displot` (a figure-level function with\n",
      "similar flexibility) or `histplot` (an axes-level function for histograms).\n",
      "\n",
      "For a guide to updating your code to use the new functions, please see\n",
      "https://gist.github.com/mwaskom/de44147ed2974457ad6372750bbe5751\n",
      "\n",
      "  sns.distplot(df_gpt4o['cosine'], label='4o')\n",
      "C:\\Users\\alexe\\AppData\\Local\\Temp\\ipykernel_8108\\4043211035.py:4: UserWarning: \n",
      "\n",
      "`distplot` is a deprecated function and will be removed in seaborn v0.14.0.\n",
      "\n",
      "Please adapt your code to use either `displot` (a figure-level function with\n",
      "similar flexibility) or `histplot` (an axes-level function for histograms).\n",
      "\n",
      "For a guide to updating your code to use the new functions, please see\n",
      "https://gist.github.com/mwaskom/de44147ed2974457ad6372750bbe5751\n",
      "\n",
      "  sns.distplot(df_gpt4o_mini['cosine'], label='4o-mini')\n"
     ]
    },
    {
     "data": {
      "text/plain": [
       "<matplotlib.legend.Legend at 0x2d4f39b8140>"
      ]
     },
     "execution_count": 250,
     "metadata": {},
     "output_type": "execute_result"
    },
    {
     "data": {
      "image/png": "[encoded data removed]",
      "text/plain": [
       "<Figure size 640x480 with 1 Axes>"
      ]
     },
     "metadata": {},
     "output_type": "display_data"
    }
   ],
   "source": [
    "# sns.distplot(df_gpt35['cosine'], label='3.5')\n",
    "\n",
    "sns.distplot(df_gpt4o['cosine'], label='4o')\n",
    "sns.distplot(df_gpt4o_mini['cosine'], label='4o-mini')\n",
    "\n",
    "plt.title(\"RAG LLM performance\")\n",
    "plt.xlabel(\"A->Q->A' Cosine Similarity\")\n",
    "plt.legend()"
   ]
  },
  {
   "cell_type": "markdown",
   "id": "5d865c1d-3577-4812-959a-93fc8c3a598b",
   "metadata": {},
   "source": [
    "## LLM-as-a-Judge"
   ]
  },
  {
   "cell_type": "code",
   "execution_count": 62,
   "id": "607005fb-d83f-44be-a51a-6bed9f6ebdc7",
   "metadata": {},
   "outputs": [],
   "source": [
    "prompt1_template = \"\"\"\n",
    "You are an expert evaluator for a Retrieval-Augmented Generation (RAG) system.\n",
    "Your task is to analyze the relevance of the generated answer compared to the original answer provided.\n",
    "Based on the relevance and similarity of the generated answer to the original answer, you will classify\n",
    "it as \"NON_RELEVANT\", \"PARTLY_RELEVANT\", or \"RELEVANT\".\n",
    "\n",
    "Here is the data for evaluation:\n",
    "\n",
    "Original Answer: {answer_orig}\n",
    "Generated Question: {question}\n",
    "Generated Answer: {answer_llm}\n",
    "\n",
    "Please analyze the content and context of the generated answer in relation to the original\n",
    "answer and provide your evaluation in parsable JSON without using code blocks:\n",
    "\n",
    "{{\n",
    "  \"Relevance\": \"NON_RELEVANT\" | \"PARTLY_RELEVANT\" | \"RELEVANT\",\n",
    "  \"Explanation\": \"[Provide a brief explanation for your evaluation]\"\n",
    "}}\n",
    "\"\"\".strip()\n",
    "\n",
    "prompt2_template = \"\"\"\n",
    "You are an expert evaluator for a Retrieval-Augmented Generation (RAG) system.\n",
    "Your task is to analyze the relevance of the generated answer to the given question.\n",
    "Based on the relevance of the generated answer, you will classify it\n",
    "as \"NON_RELEVANT\", \"PARTLY_RELEVANT\", or \"RELEVANT\".\n",
    "\n",
    "Here is the data for evaluation:\n",
    "\n",
    "Question: {question}\n",
    "Generated Answer: {answer_llm}\n",
    "\n",
    "Please analyze the content and context of the generated answer in relation to the question\n",
    "and provide your evaluation in parsable JSON without using code blocks:\n",
    "\n",
    "{{\n",
    "  \"Relevance\": \"NON_RELEVANT\" | \"PARTLY_RELEVANT\" | \"RELEVANT\",\n",
    "  \"Explanation\": \"[Provide a brief explanation for your evaluation]\"\n",
    "}}\n",
    "\"\"\".strip()"
   ]
  },
  {
   "cell_type": "code",
   "execution_count": 68,
   "id": "c74dca63",
   "metadata": {},
   "outputs": [],
   "source": [
    "df_gpt4o_mini = pd.read_csv('results-gpt4o-mini-cosine.csv')"
   ]
  },
  {
   "cell_type": "code",
   "execution_count": 69,
   "id": "fe131dc5-256b-4198-96f7-4c6209ca9b68",
   "metadata": {},
   "outputs": [],
   "source": [
    "df_sample = df_gpt4o_mini.sample(n=50, random_state=1)"
   ]
  },
  {
   "cell_type": "code",
   "execution_count": 70,
   "id": "40455240",
   "metadata": {},
   "outputs": [
    {
     "data": {
      "text/html": [
       "<div>\n",
       "<style scoped>\n",
       "    .dataframe tbody tr th:only-of-type {\n",
       "        vertical-align: middle;\n",
       "    }\n",
       "\n",
       "    .dataframe tbody tr th {\n",
       "        vertical-align: top;\n",
       "    }\n",
       "\n",
       "    .dataframe thead th {\n",
       "        text-align: right;\n",
       "    }\n",
       "</style>\n",
       "<table border=\"1\" class=\"dataframe\">\n",
       "  <thead>\n",
       "    <tr style=\"text-align: right;\">\n",
       "      <th></th>\n",
       "      <th>answer_llm</th>\n",
       "      <th>answer_orig</th>\n",
       "      <th>document</th>\n",
       "      <th>question</th>\n",
       "      <th>course</th>\n",
       "      <th>cosine</th>\n",
       "    </tr>\n",
       "  </thead>\n",
       "  <tbody>\n",
       "    <tr>\n",
       "      <th>726</th>\n",
       "      <td>The syntax for using `precision_recall_fscore_...</td>\n",
       "      <td>Scikit-learn offers another way: precision_rec...</td>\n",
       "      <td>403bbdd8</td>\n",
       "      <td>What is the syntax for using precision_recall_...</td>\n",
       "      <td>machine-learning-zoomcamp</td>\n",
       "      <td>0.901076</td>\n",
       "    </tr>\n",
       "    <tr>\n",
       "      <th>1662</th>\n",
       "      <td>To avoid pickle errors when using waitress, yo...</td>\n",
       "      <td>When running a docker container with waitress ...</td>\n",
       "      <td>236864c2</td>\n",
       "      <td>How should I modify my scripts to avoid pickle...</td>\n",
       "      <td>machine-learning-zoomcamp</td>\n",
       "      <td>0.721914</td>\n",
       "    </tr>\n",
       "    <tr>\n",
       "      <th>834</th>\n",
       "      <td>The command to launch a container image in int...</td>\n",
       "      <td>Launch the container image in interactive mode...</td>\n",
       "      <td>63a81b57</td>\n",
       "      <td>What command launches a container image in int...</td>\n",
       "      <td>machine-learning-zoomcamp</td>\n",
       "      <td>0.836726</td>\n",
       "    </tr>\n",
       "    <tr>\n",
       "      <th>1234</th>\n",
       "      <td>Yes, you can make a pull request for homework ...</td>\n",
       "      <td>Pytorch is also a deep learning framework that...</td>\n",
       "      <td>c4ff26e5</td>\n",
       "      <td>Can we make a pull request for homework soluti...</td>\n",
       "      <td>machine-learning-zoomcamp</td>\n",
       "      <td>0.549889</td>\n",
       "    </tr>\n",
       "    <tr>\n",
       "      <th>1323</th>\n",
       "      <td>The cause of the pip version error in this wee...</td>\n",
       "      <td>When running docker build -t dino-dragon-model...</td>\n",
       "      <td>42c09143</td>\n",
       "      <td>What might be the cause of the pip version err...</td>\n",
       "      <td>machine-learning-zoomcamp</td>\n",
       "      <td>0.309405</td>\n",
       "    </tr>\n",
       "    <tr>\n",
       "      <th>1461</th>\n",
       "      <td>After editing the metrics-server, you should r...</td>\n",
       "      <td>In case the HPA instance does not run correctl...</td>\n",
       "      <td>df023a13</td>\n",
       "      <td>What command do we run after editing the metri...</td>\n",
       "      <td>machine-learning-zoomcamp</td>\n",
       "      <td>0.838569</td>\n",
       "    </tr>\n",
       "    <tr>\n",
       "      <th>1529</th>\n",
       "      <td>To check your AWS CLI version for eksctl compa...</td>\n",
       "      <td>Make sure you are on AWS CLI v2 (check with aw...</td>\n",
       "      <td>00882c83</td>\n",
       "      <td>How can I check my AWS CLI version for eksctl ...</td>\n",
       "      <td>machine-learning-zoomcamp</td>\n",
       "      <td>0.641516</td>\n",
       "    </tr>\n",
       "    <tr>\n",
       "      <th>698</th>\n",
       "      <td>One main reason for different accuracy values ...</td>\n",
       "      <td>One main reason behind that, is the way of spl...</td>\n",
       "      <td>25481ce5</td>\n",
       "      <td>What is one main reason for different accuracy...</td>\n",
       "      <td>machine-learning-zoomcamp</td>\n",
       "      <td>0.559826</td>\n",
       "    </tr>\n",
       "    <tr>\n",
       "      <th>1289</th>\n",
       "      <td>If you lose the REMOTE_URI variable after the ...</td>\n",
       "      <td>Solution description\\nIn the unit 9.6, Alexey ...</td>\n",
       "      <td>60fa95ed</td>\n",
       "      <td>What should I do if I lose the REMOTE_URI vari...</td>\n",
       "      <td>machine-learning-zoomcamp</td>\n",
       "      <td>0.505633</td>\n",
       "    </tr>\n",
       "    <tr>\n",
       "      <th>1751</th>\n",
       "      <td>You can find the script for generating the Kit...</td>\n",
       "      <td>The image dataset for the competition was in a...</td>\n",
       "      <td>20174c95</td>\n",
       "      <td>Where can I find the script for generating the...</td>\n",
       "      <td>machine-learning-zoomcamp</td>\n",
       "      <td>0.642981</td>\n",
       "    </tr>\n",
       "    <tr>\n",
       "      <th>1543</th>\n",
       "      <td>The solution for the TensorFlow Serving error ...</td>\n",
       "      <td>While trying to run the docker code on M1:\\ndo...</td>\n",
       "      <td>5bda3b94</td>\n",
       "      <td>What is the solution for the TensorFlow Servin...</td>\n",
       "      <td>machine-learning-zoomcamp</td>\n",
       "      <td>0.731042</td>\n",
       "    </tr>\n",
       "    <tr>\n",
       "      <th>968</th>\n",
       "      <td>To resolve the NotSupportedError in section 5,...</td>\n",
       "      <td>Question:\\nWhen executing\\neb local run  --por...</td>\n",
       "      <td>d04e77f8</td>\n",
       "      <td>What steps can I take to resolve the NotSuppor...</td>\n",
       "      <td>machine-learning-zoomcamp</td>\n",
       "      <td>0.306831</td>\n",
       "    </tr>\n",
       "    <tr>\n",
       "      <th>1241</th>\n",
       "      <td>The solution for fixing the 'Failed to find da...</td>\n",
       "      <td>While training a Keras model you get the error...</td>\n",
       "      <td>62722d72</td>\n",
       "      <td>Who added the solution for fixing the 'Failed ...</td>\n",
       "      <td>machine-learning-zoomcamp</td>\n",
       "      <td>0.752211</td>\n",
       "    </tr>\n",
       "    <tr>\n",
       "      <th>1483</th>\n",
       "      <td>The first step to install kind through choco i...</td>\n",
       "      <td>First you need to launch a powershell terminal...</td>\n",
       "      <td>03b5fc59</td>\n",
       "      <td>What's the first step to install kind through ...</td>\n",
       "      <td>machine-learning-zoomcamp</td>\n",
       "      <td>0.894208</td>\n",
       "    </tr>\n",
       "    <tr>\n",
       "      <th>297</th>\n",
       "      <td>You can fetch data for homework using the `req...</td>\n",
       "      <td>Above users showed how to load the dataset dir...</td>\n",
       "      <td>8d209d6d</td>\n",
       "      <td>Could you share a method to fetch data for hom...</td>\n",
       "      <td>machine-learning-zoomcamp</td>\n",
       "      <td>0.856569</td>\n",
       "    </tr>\n",
       "    <tr>\n",
       "      <th>1104</th>\n",
       "      <td>Yes, you can use the `mean_squared_error` func...</td>\n",
       "      <td>Instead of using np.sqrt() as the second step....</td>\n",
       "      <td>a7e7cdd2</td>\n",
       "      <td>Can I use mean_squared_error to compute RMSE i...</td>\n",
       "      <td>machine-learning-zoomcamp</td>\n",
       "      <td>0.518189</td>\n",
       "    </tr>\n",
       "    <tr>\n",
       "      <th>1348</th>\n",
       "      <td>You can find documentation on how Lambda funct...</td>\n",
       "      <td>I wanted to understand how lambda container im...</td>\n",
       "      <td>4d98cd09</td>\n",
       "      <td>Where can I find documentation on how Lambda f...</td>\n",
       "      <td>machine-learning-zoomcamp</td>\n",
       "      <td>0.902705</td>\n",
       "    </tr>\n",
       "    <tr>\n",
       "      <th>282</th>\n",
       "      <td>To read data from a GitHub URL using pandas, y...</td>\n",
       "      <td>The dataset can be read directly to pandas dat...</td>\n",
       "      <td>0b3eaf92</td>\n",
       "      <td>Could you explain how to read data from a GitH...</td>\n",
       "      <td>machine-learning-zoomcamp</td>\n",
       "      <td>0.828557</td>\n",
       "    </tr>\n",
       "    <tr>\n",
       "      <th>330</th>\n",
       "      <td>Using a random seed of 42 ensures a consistent...</td>\n",
       "      <td>One of the questions on the homework calls for...</td>\n",
       "      <td>48aac030</td>\n",
       "      <td>Why do all my missing values end up in the tra...</td>\n",
       "      <td>machine-learning-zoomcamp</td>\n",
       "      <td>0.925213</td>\n",
       "    </tr>\n",
       "    <tr>\n",
       "      <th>87</th>\n",
       "      <td>You can find the materials related to your coh...</td>\n",
       "      <td>Welcome to the course! Go to the course page (...</td>\n",
       "      <td>0a278fb2</td>\n",
       "      <td>Where can I find the materials related to my c...</td>\n",
       "      <td>machine-learning-zoomcamp</td>\n",
       "      <td>0.820512</td>\n",
       "    </tr>\n",
       "    <tr>\n",
       "      <th>268</th>\n",
       "      <td>Yes, you can learn more about the California h...</td>\n",
       "      <td>You can find a detailed description of the dat...</td>\n",
       "      <td>27c2d90a</td>\n",
       "      <td>Is there a link to learn more about the Califo...</td>\n",
       "      <td>machine-learning-zoomcamp</td>\n",
       "      <td>0.801973</td>\n",
       "    </tr>\n",
       "    <tr>\n",
       "      <th>1041</th>\n",
       "      <td>In the course, the algorithms that represent b...</td>\n",
       "      <td>For ensemble algorithms, during the week 6, on...</td>\n",
       "      <td>a55b29ff</td>\n",
       "      <td>Which algorithms represent bagging and boostin...</td>\n",
       "      <td>machine-learning-zoomcamp</td>\n",
       "      <td>0.847938</td>\n",
       "    </tr>\n",
       "    <tr>\n",
       "      <th>619</th>\n",
       "      <td>The information about using metrics on a serie...</td>\n",
       "      <td>https://datatalks-club.slack.com/archives/C028...</td>\n",
       "      <td>a52d4739</td>\n",
       "      <td>Who contributed the information about using me...</td>\n",
       "      <td>machine-learning-zoomcamp</td>\n",
       "      <td>0.768223</td>\n",
       "    </tr>\n",
       "    <tr>\n",
       "      <th>418</th>\n",
       "      <td>You can check out the video titled \"Normal Equ...</td>\n",
       "      <td>I found this video pretty usual for understand...</td>\n",
       "      <td>bd4a1395</td>\n",
       "      <td>Can you suggest a video that explains the norm...</td>\n",
       "      <td>machine-learning-zoomcamp</td>\n",
       "      <td>0.848277</td>\n",
       "    </tr>\n",
       "    <tr>\n",
       "      <th>1730</th>\n",
       "      <td>Yes, Google Cloud Platform (GCP) offers microi...</td>\n",
       "      <td>Q: Hii folks, I tried deploying my docker imag...</td>\n",
       "      <td>aa13dd66</td>\n",
       "      <td>Does Google Cloud Platform offer any free serv...</td>\n",
       "      <td>machine-learning-zoomcamp</td>\n",
       "      <td>0.431888</td>\n",
       "    </tr>\n",
       "    <tr>\n",
       "      <th>1428</th>\n",
       "      <td>You can find a guide for using Docker in Googl...</td>\n",
       "      <td>I’ve tried to do everything in Google Colab. H...</td>\n",
       "      <td>d4f9efdc</td>\n",
       "      <td>Where can I find a guide for using Docker in G...</td>\n",
       "      <td>machine-learning-zoomcamp</td>\n",
       "      <td>0.681686</td>\n",
       "    </tr>\n",
       "    <tr>\n",
       "      <th>589</th>\n",
       "      <td>The command to import the required function fo...</td>\n",
       "      <td>We can use sklearn &amp; numpy packages to calcula...</td>\n",
       "      <td>618ad97a</td>\n",
       "      <td>What is the command from sklearn to import the...</td>\n",
       "      <td>machine-learning-zoomcamp</td>\n",
       "      <td>0.706294</td>\n",
       "    </tr>\n",
       "    <tr>\n",
       "      <th>1541</th>\n",
       "      <td>If the region is configured by default, there ...</td>\n",
       "      <td>As per AWS documentation:\\nhttps://docs.aws.am...</td>\n",
       "      <td>f9711723</td>\n",
       "      <td>What is the alternative command if the region ...</td>\n",
       "      <td>machine-learning-zoomcamp</td>\n",
       "      <td>0.385838</td>\n",
       "    </tr>\n",
       "    <tr>\n",
       "      <th>389</th>\n",
       "      <td>The pandas function that directly computes the...</td>\n",
       "      <td>If we have a list or series of data for exampl...</td>\n",
       "      <td>7cd652c5</td>\n",
       "      <td>Which pandas function directly computes the st...</td>\n",
       "      <td>machine-learning-zoomcamp</td>\n",
       "      <td>0.839060</td>\n",
       "    </tr>\n",
       "    <tr>\n",
       "      <th>1269</th>\n",
       "      <td>The default value for the number of workers in...</td>\n",
       "      <td>When training the models, in the fit function,...</td>\n",
       "      <td>daf84bc3</td>\n",
       "      <td>What is the default value for the number of wo...</td>\n",
       "      <td>machine-learning-zoomcamp</td>\n",
       "      <td>0.500696</td>\n",
       "    </tr>\n",
       "    <tr>\n",
       "      <th>1413</th>\n",
       "      <td>If your Keras model *.h5 doesn't load due to a...</td>\n",
       "      <td>Solution: add compile = False to the load_mode...</td>\n",
       "      <td>7daaca73</td>\n",
       "      <td>What should I do if my Keras model *.h5 doesn'...</td>\n",
       "      <td>machine-learning-zoomcamp</td>\n",
       "      <td>0.898112</td>\n",
       "    </tr>\n",
       "    <tr>\n",
       "      <th>632</th>\n",
       "      <td>You can verify the results of your own code fo...</td>\n",
       "      <td>I am getting multiple thresholds with the same...</td>\n",
       "      <td>b431e7eb</td>\n",
       "      <td>How can I verify the results of my own code fo...</td>\n",
       "      <td>machine-learning-zoomcamp</td>\n",
       "      <td>0.552508</td>\n",
       "    </tr>\n",
       "    <tr>\n",
       "      <th>375</th>\n",
       "      <td>No, regularization techniques are not always n...</td>\n",
       "      <td>The application of regularization depends on t...</td>\n",
       "      <td>c21f99f5</td>\n",
       "      <td>Do we need to always use regularization techni...</td>\n",
       "      <td>machine-learning-zoomcamp</td>\n",
       "      <td>0.845730</td>\n",
       "    </tr>\n",
       "    <tr>\n",
       "      <th>705</th>\n",
       "      <td>The role of `np.sign` in determining the inter...</td>\n",
       "      <td>You can find the intercept between these two c...</td>\n",
       "      <td>1427d567</td>\n",
       "      <td>What is the role of np.sign in determining the...</td>\n",
       "      <td>machine-learning-zoomcamp</td>\n",
       "      <td>0.729242</td>\n",
       "    </tr>\n",
       "    <tr>\n",
       "      <th>1497</th>\n",
       "      <td>To solve the issue of running out of storage a...</td>\n",
       "      <td>Problem description\\nDue to experimenting back...</td>\n",
       "      <td>c5cde96c</td>\n",
       "      <td>How can I solve the issue of running out of st...</td>\n",
       "      <td>machine-learning-zoomcamp</td>\n",
       "      <td>0.849498</td>\n",
       "    </tr>\n",
       "    <tr>\n",
       "      <th>1208</th>\n",
       "      <td>Folders are read in alphabetical order when de...</td>\n",
       "      <td>The command to read folders in the dataset in ...</td>\n",
       "      <td>9fad096e</td>\n",
       "      <td>In which order are folders read when determini...</td>\n",
       "      <td>machine-learning-zoomcamp</td>\n",
       "      <td>0.715715</td>\n",
       "    </tr>\n",
       "    <tr>\n",
       "      <th>1410</th>\n",
       "      <td>To fix Docker's DNS settings, you should modif...</td>\n",
       "      <td>Add the next lines to vim /etc/docker/daemon.j...</td>\n",
       "      <td>1078aeb7</td>\n",
       "      <td>Which file should I modify to fix Docker's DNS...</td>\n",
       "      <td>machine-learning-zoomcamp</td>\n",
       "      <td>0.734095</td>\n",
       "    </tr>\n",
       "    <tr>\n",
       "      <th>1616</th>\n",
       "      <td>You should train as many models as you can for...</td>\n",
       "      <td>Regarding Point 4 in the midterm deliverables,...</td>\n",
       "      <td>fbaa5b20</td>\n",
       "      <td>Is there a specific number of models required ...</td>\n",
       "      <td>machine-learning-zoomcamp</td>\n",
       "      <td>0.783475</td>\n",
       "    </tr>\n",
       "    <tr>\n",
       "      <th>683</th>\n",
       "      <td>When the threshold is set to 1.0, there are no...</td>\n",
       "      <td>For churn/not churn predictions, I need help t...</td>\n",
       "      <td>746342ff</td>\n",
       "      <td>Why does a threshold of 1.0 result in FPR bein...</td>\n",
       "      <td>machine-learning-zoomcamp</td>\n",
       "      <td>0.792575</td>\n",
       "    </tr>\n",
       "    <tr>\n",
       "      <th>386</th>\n",
       "      <td>The pandas method to calculate the standard de...</td>\n",
       "      <td>If we have a list or series of data for exampl...</td>\n",
       "      <td>7cd652c5</td>\n",
       "      <td>What is the pandas method to calculate the sta...</td>\n",
       "      <td>machine-learning-zoomcamp</td>\n",
       "      <td>0.793173</td>\n",
       "    </tr>\n",
       "    <tr>\n",
       "      <th>453</th>\n",
       "      <td>We don't include df_train_full for the correla...</td>\n",
       "      <td>Q2 asks about correlation matrix and convertin...</td>\n",
       "      <td>d2043cf5</td>\n",
       "      <td>Why don't we include df_train_full for the cor...</td>\n",
       "      <td>machine-learning-zoomcamp</td>\n",
       "      <td>0.651888</td>\n",
       "    </tr>\n",
       "    <tr>\n",
       "      <th>1775</th>\n",
       "      <td>To set up a Conda environment on your computer...</td>\n",
       "      <td>Yes. Whoever corrects the homework will only b...</td>\n",
       "      <td>1e60e888</td>\n",
       "      <td>How can I set up a Conda environment on my com...</td>\n",
       "      <td>machine-learning-zoomcamp</td>\n",
       "      <td>0.468695</td>\n",
       "    </tr>\n",
       "    <tr>\n",
       "      <th>1026</th>\n",
       "      <td>To fix a ValueError related to feature names w...</td>\n",
       "      <td>If you’re getting TypeError:\\n“TypeError: Expe...</td>\n",
       "      <td>c920eef3</td>\n",
       "      <td>How can I fix a ValueError related to feature ...</td>\n",
       "      <td>machine-learning-zoomcamp</td>\n",
       "      <td>0.746378</td>\n",
       "    </tr>\n",
       "    <tr>\n",
       "      <th>789</th>\n",
       "      <td>To resolve the 'Cannot connect to the docker d...</td>\n",
       "      <td>Working on getting Docker installed - when I t...</td>\n",
       "      <td>4b2a3181</td>\n",
       "      <td>How can I resolve the 'Cannot connect to the d...</td>\n",
       "      <td>machine-learning-zoomcamp</td>\n",
       "      <td>0.827650</td>\n",
       "    </tr>\n",
       "    <tr>\n",
       "      <th>48</th>\n",
       "      <td>No, it is not mandatory to complete the midter...</td>\n",
       "      <td>Yes, it's possible. See the previous answer.</td>\n",
       "      <td>1d644223</td>\n",
       "      <td>Is it mandatory to complete the midterm projec...</td>\n",
       "      <td>machine-learning-zoomcamp</td>\n",
       "      <td>0.193511</td>\n",
       "    </tr>\n",
       "    <tr>\n",
       "      <th>790</th>\n",
       "      <td>The provided context does not include specific...</td>\n",
       "      <td>Working on getting Docker installed - when I t...</td>\n",
       "      <td>4b2a3181</td>\n",
       "      <td>What commands should I use to start the docker...</td>\n",
       "      <td>machine-learning-zoomcamp</td>\n",
       "      <td>0.511302</td>\n",
       "    </tr>\n",
       "    <tr>\n",
       "      <th>47</th>\n",
       "      <td>Yes, you may still be eligible for certificati...</td>\n",
       "      <td>Yes, it's possible. See the previous answer.</td>\n",
       "      <td>1d644223</td>\n",
       "      <td>Am I eligible for certification if I missed th...</td>\n",
       "      <td>machine-learning-zoomcamp</td>\n",
       "      <td>0.223795</td>\n",
       "    </tr>\n",
       "    <tr>\n",
       "      <th>904</th>\n",
       "      <td>To install md5sum on Mac, use the command:\\n\\n...</td>\n",
       "      <td>Install it by using command\\n% brew install md...</td>\n",
       "      <td>4ea80460</td>\n",
       "      <td>Which tool do I use to install md5sum on Mac?</td>\n",
       "      <td>machine-learning-zoomcamp</td>\n",
       "      <td>0.765699</td>\n",
       "    </tr>\n",
       "    <tr>\n",
       "      <th>984</th>\n",
       "      <td>You can transfer files to a Docker container f...</td>\n",
       "      <td>You can copy files from your local machine int...</td>\n",
       "      <td>3f97f50f</td>\n",
       "      <td>How can I transfer files to a Docker container...</td>\n",
       "      <td>machine-learning-zoomcamp</td>\n",
       "      <td>0.958815</td>\n",
       "    </tr>\n",
       "    <tr>\n",
       "      <th>614</th>\n",
       "      <td>Based on the provided context, there is no men...</td>\n",
       "      <td>Week 4 HW: https://github.com/DataTalksClub/ma...</td>\n",
       "      <td>27c8d5da</td>\n",
       "      <td>Do you have a YouTube video covering Evaluatio...</td>\n",
       "      <td>machine-learning-zoomcamp</td>\n",
       "      <td>0.346333</td>\n",
       "    </tr>\n",
       "  </tbody>\n",
       "</table>\n",
       "</div>"
      ],
      "text/plain": [
       "                                             answer_llm  \\\n",
       "726   The syntax for using `precision_recall_fscore_...   \n",
       "1662  To avoid pickle errors when using waitress, yo...   \n",
       "834   The command to launch a container image in int...   \n",
       "1234  Yes, you can make a pull request for homework ...   \n",
       "1323  The cause of the pip version error in this wee...   \n",
       "1461  After editing the metrics-server, you should r...   \n",
       "1529  To check your AWS CLI version for eksctl compa...   \n",
       "698   One main reason for different accuracy values ...   \n",
       "1289  If you lose the REMOTE_URI variable after the ...   \n",
       "1751  You can find the script for generating the Kit...   \n",
       "1543  The solution for the TensorFlow Serving error ...   \n",
       "968   To resolve the NotSupportedError in section 5,...   \n",
       "1241  The solution for fixing the 'Failed to find da...   \n",
       "1483  The first step to install kind through choco i...   \n",
       "297   You can fetch data for homework using the `req...   \n",
       "1104  Yes, you can use the `mean_squared_error` func...   \n",
       "1348  You can find documentation on how Lambda funct...   \n",
       "282   To read data from a GitHub URL using pandas, y...   \n",
       "330   Using a random seed of 42 ensures a consistent...   \n",
       "87    You can find the materials related to your coh...   \n",
       "268   Yes, you can learn more about the California h...   \n",
       "1041  In the course, the algorithms that represent b...   \n",
       "619   The information about using metrics on a serie...   \n",
       "418   You can check out the video titled \"Normal Equ...   \n",
       "1730  Yes, Google Cloud Platform (GCP) offers microi...   \n",
       "1428  You can find a guide for using Docker in Googl...   \n",
       "589   The command to import the required function fo...   \n",
       "1541  If the region is configured by default, there ...   \n",
       "389   The pandas function that directly computes the...   \n",
       "1269  The default value for the number of workers in...   \n",
       "1413  If your Keras model *.h5 doesn't load due to a...   \n",
       "632   You can verify the results of your own code fo...   \n",
       "375   No, regularization techniques are not always n...   \n",
       "705   The role of `np.sign` in determining the inter...   \n",
       "1497  To solve the issue of running out of storage a...   \n",
       "1208  Folders are read in alphabetical order when de...   \n",
       "1410  To fix Docker's DNS settings, you should modif...   \n",
       "1616  You should train as many models as you can for...   \n",
       "683   When the threshold is set to 1.0, there are no...   \n",
       "386   The pandas method to calculate the standard de...   \n",
       "453   We don't include df_train_full for the correla...   \n",
       "1775  To set up a Conda environment on your computer...   \n",
       "1026  To fix a ValueError related to feature names w...   \n",
       "789   To resolve the 'Cannot connect to the docker d...   \n",
       "48    No, it is not mandatory to complete the midter...   \n",
       "790   The provided context does not include specific...   \n",
       "47    Yes, you may still be eligible for certificati...   \n",
       "904   To install md5sum on Mac, use the command:\\n\\n...   \n",
       "984   You can transfer files to a Docker container f...   \n",
       "614   Based on the provided context, there is no men...   \n",
       "\n",
       "                                            answer_orig  document  \\\n",
       "726   Scikit-learn offers another way: precision_rec...  403bbdd8   \n",
       "1662  When running a docker container with waitress ...  236864c2   \n",
       "834   Launch the container image in interactive mode...  63a81b57   \n",
       "1234  Pytorch is also a deep learning framework that...  c4ff26e5   \n",
       "1323  When running docker build -t dino-dragon-model...  42c09143   \n",
       "1461  In case the HPA instance does not run correctl...  df023a13   \n",
       "1529  Make sure you are on AWS CLI v2 (check with aw...  00882c83   \n",
       "698   One main reason behind that, is the way of spl...  25481ce5   \n",
       "1289  Solution description\\nIn the unit 9.6, Alexey ...  60fa95ed   \n",
       "1751  The image dataset for the competition was in a...  20174c95   \n",
       "1543  While trying to run the docker code on M1:\\ndo...  5bda3b94   \n",
       "968   Question:\\nWhen executing\\neb local run  --por...  d04e77f8   \n",
       "1241  While training a Keras model you get the error...  62722d72   \n",
       "1483  First you need to launch a powershell terminal...  03b5fc59   \n",
       "297   Above users showed how to load the dataset dir...  8d209d6d   \n",
       "1104  Instead of using np.sqrt() as the second step....  a7e7cdd2   \n",
       "1348  I wanted to understand how lambda container im...  4d98cd09   \n",
       "282   The dataset can be read directly to pandas dat...  0b3eaf92   \n",
       "330   One of the questions on the homework calls for...  48aac030   \n",
       "87    Welcome to the course! Go to the course page (...  0a278fb2   \n",
       "268   You can find a detailed description of the dat...  27c2d90a   \n",
       "1041  For ensemble algorithms, during the week 6, on...  a55b29ff   \n",
       "619   https://datatalks-club.slack.com/archives/C028...  a52d4739   \n",
       "418   I found this video pretty usual for understand...  bd4a1395   \n",
       "1730  Q: Hii folks, I tried deploying my docker imag...  aa13dd66   \n",
       "1428  I’ve tried to do everything in Google Colab. H...  d4f9efdc   \n",
       "589   We can use sklearn & numpy packages to calcula...  618ad97a   \n",
       "1541  As per AWS documentation:\\nhttps://docs.aws.am...  f9711723   \n",
       "389   If we have a list or series of data for exampl...  7cd652c5   \n",
       "1269  When training the models, in the fit function,...  daf84bc3   \n",
       "1413  Solution: add compile = False to the load_mode...  7daaca73   \n",
       "632   I am getting multiple thresholds with the same...  b431e7eb   \n",
       "375   The application of regularization depends on t...  c21f99f5   \n",
       "705   You can find the intercept between these two c...  1427d567   \n",
       "1497  Problem description\\nDue to experimenting back...  c5cde96c   \n",
       "1208  The command to read folders in the dataset in ...  9fad096e   \n",
       "1410  Add the next lines to vim /etc/docker/daemon.j...  1078aeb7   \n",
       "1616  Regarding Point 4 in the midterm deliverables,...  fbaa5b20   \n",
       "683   For churn/not churn predictions, I need help t...  746342ff   \n",
       "386   If we have a list or series of data for exampl...  7cd652c5   \n",
       "453   Q2 asks about correlation matrix and convertin...  d2043cf5   \n",
       "1775  Yes. Whoever corrects the homework will only b...  1e60e888   \n",
       "1026  If you’re getting TypeError:\\n“TypeError: Expe...  c920eef3   \n",
       "789   Working on getting Docker installed - when I t...  4b2a3181   \n",
       "48         Yes, it's possible. See the previous answer.  1d644223   \n",
       "790   Working on getting Docker installed - when I t...  4b2a3181   \n",
       "47         Yes, it's possible. See the previous answer.  1d644223   \n",
       "904   Install it by using command\\n% brew install md...  4ea80460   \n",
       "984   You can copy files from your local machine int...  3f97f50f   \n",
       "614   Week 4 HW: https://github.com/DataTalksClub/ma...  27c8d5da   \n",
       "\n",
       "                                               question  \\\n",
       "726   What is the syntax for using precision_recall_...   \n",
       "1662  How should I modify my scripts to avoid pickle...   \n",
       "834   What command launches a container image in int...   \n",
       "1234  Can we make a pull request for homework soluti...   \n",
       "1323  What might be the cause of the pip version err...   \n",
       "1461  What command do we run after editing the metri...   \n",
       "1529  How can I check my AWS CLI version for eksctl ...   \n",
       "698   What is one main reason for different accuracy...   \n",
       "1289  What should I do if I lose the REMOTE_URI vari...   \n",
       "1751  Where can I find the script for generating the...   \n",
       "1543  What is the solution for the TensorFlow Servin...   \n",
       "968   What steps can I take to resolve the NotSuppor...   \n",
       "1241  Who added the solution for fixing the 'Failed ...   \n",
       "1483  What's the first step to install kind through ...   \n",
       "297   Could you share a method to fetch data for hom...   \n",
       "1104  Can I use mean_squared_error to compute RMSE i...   \n",
       "1348  Where can I find documentation on how Lambda f...   \n",
       "282   Could you explain how to read data from a GitH...   \n",
       "330   Why do all my missing values end up in the tra...   \n",
       "87    Where can I find the materials related to my c...   \n",
       "268   Is there a link to learn more about the Califo...   \n",
       "1041  Which algorithms represent bagging and boostin...   \n",
       "619   Who contributed the information about using me...   \n",
       "418   Can you suggest a video that explains the norm...   \n",
       "1730  Does Google Cloud Platform offer any free serv...   \n",
       "1428  Where can I find a guide for using Docker in G...   \n",
       "589   What is the command from sklearn to import the...   \n",
       "1541  What is the alternative command if the region ...   \n",
       "389   Which pandas function directly computes the st...   \n",
       "1269  What is the default value for the number of wo...   \n",
       "1413  What should I do if my Keras model *.h5 doesn'...   \n",
       "632   How can I verify the results of my own code fo...   \n",
       "375   Do we need to always use regularization techni...   \n",
       "705   What is the role of np.sign in determining the...   \n",
       "1497  How can I solve the issue of running out of st...   \n",
       "1208  In which order are folders read when determini...   \n",
       "1410  Which file should I modify to fix Docker's DNS...   \n",
       "1616  Is there a specific number of models required ...   \n",
       "683   Why does a threshold of 1.0 result in FPR bein...   \n",
       "386   What is the pandas method to calculate the sta...   \n",
       "453   Why don't we include df_train_full for the cor...   \n",
       "1775  How can I set up a Conda environment on my com...   \n",
       "1026  How can I fix a ValueError related to feature ...   \n",
       "789   How can I resolve the 'Cannot connect to the d...   \n",
       "48    Is it mandatory to complete the midterm projec...   \n",
       "790   What commands should I use to start the docker...   \n",
       "47    Am I eligible for certification if I missed th...   \n",
       "904       Which tool do I use to install md5sum on Mac?   \n",
       "984   How can I transfer files to a Docker container...   \n",
       "614   Do you have a YouTube video covering Evaluatio...   \n",
       "\n",
       "                         course    cosine  \n",
       "726   machine-learning-zoomcamp  0.901076  \n",
       "1662  machine-learning-zoomcamp  0.721914  \n",
       "834   machine-learning-zoomcamp  0.836726  \n",
       "1234  machine-learning-zoomcamp  0.549889  \n",
       "1323  machine-learning-zoomcamp  0.309405  \n",
       "1461  machine-learning-zoomcamp  0.838569  \n",
       "1529  machine-learning-zoomcamp  0.641516  \n",
       "698   machine-learning-zoomcamp  0.559826  \n",
       "1289  machine-learning-zoomcamp  0.505633  \n",
       "1751  machine-learning-zoomcamp  0.642981  \n",
       "1543  machine-learning-zoomcamp  0.731042  \n",
       "968   machine-learning-zoomcamp  0.306831  \n",
       "1241  machine-learning-zoomcamp  0.752211  \n",
       "1483  machine-learning-zoomcamp  0.894208  \n",
       "297   machine-learning-zoomcamp  0.856569  \n",
       "1104  machine-learning-zoomcamp  0.518189  \n",
       "1348  machine-learning-zoomcamp  0.902705  \n",
       "282   machine-learning-zoomcamp  0.828557  \n",
       "330   machine-learning-zoomcamp  0.925213  \n",
       "87    machine-learning-zoomcamp  0.820512  \n",
       "268   machine-learning-zoomcamp  0.801973  \n",
       "1041  machine-learning-zoomcamp  0.847938  \n",
       "619   machine-learning-zoomcamp  0.768223  \n",
       "418   machine-learning-zoomcamp  0.848277  \n",
       "1730  machine-learning-zoomcamp  0.431888  \n",
       "1428  machine-learning-zoomcamp  0.681686  \n",
       "589   machine-learning-zoomcamp  0.706294  \n",
       "1541  machine-learning-zoomcamp  0.385838  \n",
       "389   machine-learning-zoomcamp  0.839060  \n",
       "1269  machine-learning-zoomcamp  0.500696  \n",
       "1413  machine-learning-zoomcamp  0.898112  \n",
       "632   machine-learning-zoomcamp  0.552508  \n",
       "375   machine-learning-zoomcamp  0.845730  \n",
       "705   machine-learning-zoomcamp  0.729242  \n",
       "1497  machine-learning-zoomcamp  0.849498  \n",
       "1208  machine-learning-zoomcamp  0.715715  \n",
       "1410  machine-learning-zoomcamp  0.734095  \n",
       "1616  machine-learning-zoomcamp  0.783475  \n",
       "683   machine-learning-zoomcamp  0.792575  \n",
       "386   machine-learning-zoomcamp  0.793173  \n",
       "453   machine-learning-zoomcamp  0.651888  \n",
       "1775  machine-learning-zoomcamp  0.468695  \n",
       "1026  machine-learning-zoomcamp  0.746378  \n",
       "789   machine-learning-zoomcamp  0.827650  \n",
       "48    machine-learning-zoomcamp  0.193511  \n",
       "790   machine-learning-zoomcamp  0.511302  \n",
       "47    machine-learning-zoomcamp  0.223795  \n",
       "904   machine-learning-zoomcamp  0.765699  \n",
       "984   machine-learning-zoomcamp  0.958815  \n",
       "614   machine-learning-zoomcamp  0.346333  "
      ]
     },
     "execution_count": 70,
     "metadata": {},
     "output_type": "execute_result"
    }
   ],
   "source": [
    "df_sample"
   ]
  },
  {
   "cell_type": "code",
   "execution_count": 71,
   "id": "fd5b25b5-4244-4322-9cba-40b2dde6b7de",
   "metadata": {
    "scrolled": true
   },
   "outputs": [],
   "source": [
    "samples = df_sample.to_dict(orient='records')"
   ]
  },
  {
   "cell_type": "code",
   "execution_count": 72,
   "id": "e61a635b-db6d-472f-89a1-a4d50f622124",
   "metadata": {},
   "outputs": [
    {
     "data": {
      "text/plain": [
       "{'answer_llm': 'The syntax for using `precision_recall_fscore_support` in Python is as follows:\\n\\n```python\\nfrom sklearn.metrics import precision_recall_fscore_support\\nprecision, recall, fscore, support = precision_recall_fscore_support(y_val, y_val_pred, zero_division=0)\\n```',\n",
       " 'answer_orig': 'Scikit-learn offers another way: precision_recall_fscore_support\\nExample:\\nfrom sklearn.metrics import precision_recall_fscore_support\\nprecision, recall, fscore, support = precision_recall_fscore_support(y_val, y_val_pred, zero_division=0)\\n(Gopakumar Gopinathan)',\n",
       " 'document': '403bbdd8',\n",
       " 'question': 'What is the syntax for using precision_recall_fscore_support in Python?',\n",
       " 'course': 'machine-learning-zoomcamp',\n",
       " 'cosine': 0.9010756}"
      ]
     },
     "execution_count": 72,
     "metadata": {},
     "output_type": "execute_result"
    }
   ],
   "source": [
    "record = samples[0]\n",
    "record"
   ]
  },
  {
   "cell_type": "code",
   "execution_count": 73,
   "id": "e514f94b-8564-40ab-a367-a5a2dda0c8e3",
   "metadata": {},
   "outputs": [
    {
     "name": "stdout",
     "output_type": "stream",
     "text": [
      "You are an expert evaluator for a Retrieval-Augmented Generation (RAG) system.\n",
      "Your task is to analyze the relevance of the generated answer compared to the original answer provided.\n",
      "Based on the relevance and similarity of the generated answer to the original answer, you will classify\n",
      "it as \"NON_RELEVANT\", \"PARTLY_RELEVANT\", or \"RELEVANT\".\n",
      "\n",
      "Here is the data for evaluation:\n",
      "\n",
      "Original Answer: Scikit-learn offers another way: precision_recall_fscore_support\n",
      "Example:\n",
      "from sklearn.metrics import precision_recall_fscore_support\n",
      "precision, recall, fscore, support = precision_recall_fscore_support(y_val, y_val_pred, zero_division=0)\n",
      "(Gopakumar Gopinathan)\n",
      "Generated Question: What is the syntax for using precision_recall_fscore_support in Python?\n",
      "Generated Answer: The syntax for using `precision_recall_fscore_support` in Python is as follows:\n",
      "\n",
      "```python\n",
      "from sklearn.metrics import precision_recall_fscore_support\n",
      "precision, recall, fscore, support = precision_recall_fscore_support(y_val, y_val_pred, zero_division=0)\n",
      "```\n",
      "\n",
      "Please analyze the content and context of the generated answer in relation to the original\n",
      "answer and provide your evaluation in parsable JSON without using code blocks:\n",
      "\n",
      "{\n",
      "  \"Relevance\": \"NON_RELEVANT\" | \"PARTLY_RELEVANT\" | \"RELEVANT\",\n",
      "  \"Explanation\": \"[Provide a brief explanation for your evaluation]\"\n",
      "}\n"
     ]
    }
   ],
   "source": [
    "prompt = prompt1_template.format(**record)\n",
    "print(prompt)"
   ]
  },
  {
   "cell_type": "code",
   "execution_count": 74,
   "id": "57e6694f-bf49-467d-82ae-ca5bf06e94f4",
   "metadata": {},
   "outputs": [],
   "source": [
    "answer = llm(prompt, model='gpt-4o-mini')"
   ]
  },
  {
   "cell_type": "code",
   "execution_count": 75,
   "id": "06aee815",
   "metadata": {},
   "outputs": [
    {
     "data": {
      "text/plain": [
       "'{\\n  \"Relevance\": \"RELEVANT\",\\n  \"Explanation\": \"The generated answer provides the exact syntax for using `precision_recall_fscore_support` in Python, which directly responds to the question about its syntax. It includes a code example identical to the one in the original answer, making it fully relevant.\"\\n}'"
      ]
     },
     "execution_count": 75,
     "metadata": {},
     "output_type": "execute_result"
    }
   ],
   "source": [
    "answer"
   ]
  },
  {
   "cell_type": "code",
   "execution_count": 76,
   "id": "edbe0ddb-75ab-4663-abbd-9886bc23a416",
   "metadata": {},
   "outputs": [],
   "source": [
    "import json"
   ]
  },
  {
   "cell_type": "code",
   "execution_count": 84,
   "id": "92b557cc-13a7-4832-b1c9-382cc51d08e2",
   "metadata": {},
   "outputs": [
    {
     "name": "stderr",
     "output_type": "stream",
     "text": [
      "100%|██████████| 50/50 [01:33<00:00,  1.86s/it]\n"
     ]
    }
   ],
   "source": [
    "evaluations = []\n",
    "\n",
    "for record in tqdm(samples):\n",
    "    prompt = prompt1_template.format(**record)\n",
    "    evaluation = llm(prompt, model='gpt-4o-mini')\n",
    "    evaluations.append(evaluation)"
   ]
  },
  {
   "cell_type": "code",
   "execution_count": 85,
   "id": "09ce735b",
   "metadata": {},
   "outputs": [
    {
     "data": {
      "text/plain": [
       "['{\\n  \"Relevance\": \"RELEVANT\",\\n  \"Explanation\": \"The generated answer directly provides the syntax for using `precision_recall_fscore_support`, which is exactly what the original answer discussed. The content matches perfectly, including the code example.\"\\n}',\n",
       " '{\\n  \"Relevance\": \"RELEVANT\",\\n  \"Explanation\": \"The generated answer directly addresses the question about modifying scripts to avoid pickle errors when using waitress. It accurately summarizes the solution provided in the original answer, including the key detail of placing the custom column transformer class into a separate module and importing it in both the saving and loading scripts. Thus, it maintains high relevance and fidelity to the original content.\"\\n}',\n",
       " '{\\n  \"Relevance\": \"RELEVANT\",\\n  \"Explanation\": \"The generated answer directly provides the command needed to launch a container image in interactive mode, which is the focus of the original answer. It accurately reflects the key information given in the original response without any omissions.\"\\n}',\n",
       " '{\\n  \"Relevance\": \"RELEVANT\",\\n  \"Explanation\": \"The generated answer directly addresses the question about making a pull request for homework solutions using PyTorch. It accurately reflects the information provided in the original answer, confirming that submissions in PyTorch are encouraged, even though Keras is primarily used for lessons and homework. This shows a high degree of relevance and alignment with the original content.\"\\n}',\n",
       " '{\\n  \"Relevance\": \"NON_RELEVANT\",\\n  \"Explanation\": \"The generated answer discusses a pip version error related to Scikit-Learn, which is not relevant to the original answer that specifically addresses a docker build error due to a python wheel version mismatch. The context and subject matter differ significantly.\"\\n}',\n",
       " '{\\n  \"Relevance\": \"RELEVANT\",\\n  \"Explanation\": \"The generated answer directly addresses the question about what command to run after editing the metrics-server to check the HPA status. It accurately provides the command \\'kubectl get hpa\\' as stated in the original answer, making it fully relevant to the context.\"\\n}',\n",
       " '{\\n  \"Relevance\": \"RELEVANT\",\\n  \"Explanation\": \"The generated answer accurately addresses the user\\'s question about checking the AWS CLI version for eksctl compatibility, providing the correct command and confirming the requirement for AWS CLI version 2. It also includes the same reference link as the original answer, maintaining relevance to the original content.\"\\n}',\n",
       " '{\\n  \"Relevance\": \"RELEVANT\",\\n  \"Explanation\": \"The generated answer effectively addresses the question regarding the reason for different accuracy values by highlighting how the method of splitting data can affect the resulting datasets used for training and testing. It closely aligns with the original answer\\'s focus on data splitting, maintaining relevance in terms of content and context.\"\\n}',\n",
       " '{\\n  \"Relevance\": \"RELEVANT\",\\n  \"Explanation\": \"The generated answer directly addresses the concern raised in the generated question regarding the loss of the REMOTE_URI variable after the session ends. It correctly explains how to set the variable again using the export command and emphasizes the need to do this each time a new session starts, which mirrors the original answer\\'s content and intent.\"\\n}',\n",
       " '{\\n  \"Relevance\": \"RELEVANT\",\\n  \"Explanation\": \"The generated answer directly addresses the question about the location of the script for generating the Kitchenware Classification Competition dataset and provides the same link mentioned in the original answer. The content is consistent and accurately reflects the original information.\"\\n}',\n",
       " '{\\n  \"Relevance\": \"RELEVANT\",\\n  \"Explanation\": \"The generated answer accurately presents the solution to the TensorFlow Serving error on Apple M1 Mac as detailed in the original answer. It correctly identifies the needed Docker image change and provides the exact commands to pull and run the correct Docker image, maintaining alignment with the original content while summarizing it effectively.\"\\n}',\n",
       " '{\\n  \"Relevance\": \"NON_RELEVANT\",\\n  \"Explanation\": \"The generated answer provides steps related to resolving a NotSupportedError caused by protobuf package issues, which is unrelated to the original question regarding the usage of \\'eb local\\' with Docker platforms. The original answer specifically addresses a configuration issue with AWS Elastic Beanstalk and Docker, making the generated response irrelevant to the context.\"\\n}',\n",
       " '{\\n  \"Relevance\": \"RELEVANT\",\\n  \"Explanation\": \"The generated answer directly addresses the question about who provided the solution for fixing the error in the Keras model training, and it accurately states that Tzvi Friedman added the solution. Therefore, it is highly relevant to the original answer.\"\\n}',\n",
       " '{\\n  \"Relevance\": \"RELEVANT\",\\n  \"Explanation\": \"The generated answer accurately describes the first step to install \\'kind\\' through choco by mentioning the need to launch a PowerShell terminal with administrator privileges and includes the command to install the choco library, which directly corresponds to the original answer.\"\\n}',\n",
       " '{\\n  \"Relevance\": \"RELEVANT\",\\n  \"Explanation\": \"The generated answer not only directly responds to the question regarding a method to fetch data using the requests library but also accurately reproduces the original answer’s code example without any significant alterations. It maintains the same context, purpose, and functionality as the original answer.\"\\n}',\n",
       " '{\\n  \"Relevance\": \"RELEVANT\",\\n  \"Explanation\": \"The generated answer accurately addresses the question about using the mean_squared_error function to compute RMSE in one step. It clearly explains how to use the function with the squared parameter set to False, which aligns with the method mentioned in the original answer. Both answers provide the same key information and code example, demonstrating consistency in the explanation.\"\\n}',\n",
       " '{\\n  \"Relevance\": \"RELEVANT\",\\n  \"Explanation\": \"The generated answer directly addresses the question about where to find documentation on how Lambda functions are initialized by providing the same links that were included in the original answer, showing a clear alignment in content and context.\"\\n}',\n",
       " '{\\n  \"Relevance\": \"RELEVANT\",\\n  \"Explanation\": \"The generated answer directly addresses the question about reading data from a GitHub URL using pandas and correctly provides the exact code snippet from the original answer. It maintains the same context and delivers the same information clearly.\"\\n}',\n",
       " '{\\n  \"Relevance\": \"RELEVANT\",\\n  \"Explanation\": \"The generated answer directly addresses the original question about why all missing values end up in the training dataframe when using a random seed of 42. It explains the consistency and reproducibility of data splitting associated with the seed value, mirroring the original answer\\'s reasoning. Both answers articulate how the seed affects the distribution of missing values across dataframes.\"  \\n}',\n",
       " '{\\n  \"Relevance\": \"RELEVANT\",\\n  \"Explanation\": \"The generated answer provides a comprehensive response to the question about where to find materials related to the cohort. It accurately captures the essential steps and links mentioned in the original answer, ensuring that the user receives all necessary information clearly and directly.\"\\n}',\n",
       " '{\\n  \"Relevance\": \"RELEVANT\",\\n  \"Explanation\": \"The generated answer directly addresses the question about a link to learn more about the California housing dataset and provides the same URL as in the original answer, thereby maintaining the content and context perfectly.\"\\n}',\n",
       " '{\\n  \"Relevance\": \"RELEVANT\",\\n  \"Explanation\": \"The generated answer accurately identifies Random Forest as the bagging algorithm and XGBoost as the boosting algorithm, which aligns perfectly with the original answer. It succinctly explains the essence of both algorithms, directly addressing the question posed.\"\\n}',\n",
       " '{\\n  \"Relevance\": \"RELEVANT\",\\n  \"Explanation\": \"The generated answer accurately identifies the contributor, Ella Sahnan, regarding the information about using metrics on a series or dataframe, which directly corresponds to the original answer.\"\\n}',\n",
       " '{\\n  \"Relevance\": \"RELEVANT\",\\n  \"Explanation\": \"The generated answer directly responds to the request for a video on the normal form derivation for regression, and it specifically references the same video mentioned in the original answer, indicating a clear connection in content and context.\"\\n}',\n",
       " '{\\n  \"Relevance\": \"PARTLY_RELEVANT\",\\n  \"Explanation\": \"The generated answer addresses the question about GCP\\'s free services, which is related to the original discussion about deploying a docker image with limited RAM. However, it lacks the context regarding other alternatives provided in the original answer, such as AWS, Saturn, and specific details about GPU hours.\"\\n}',\n",
       " '{\\n  \"Relevance\": \"RELEVANT\",\\n  \"Explanation\": \"The generated answer directly addresses the generated question by providing the same link to the guide for using Docker in Google Colab as mentioned in the original answer. It maintains the context and is clearly relevant to the user\\'s inquiry.\"\\n}',\n",
       " '{\\n  \"Relevance\": \"RELEVANT\",\\n  \"Explanation\": \"The generated answer directly addresses the generated question by providing the exact command needed to import the \\'mean_squared_error\\' function from sklearn, which is essential for calculating the Root Mean Squared Error. This corresponds accurately with the relevant part of the original answer.\"\\n}',\n",
       " '{\\n  \"Relevance\": \"NON_RELEVANT\",\\n  \"Explanation\": \"The generated answer incorrectly states that there is no alternative command when the region is configured by default, whereas the original answer explicitly provides an alternative command for that scenario. The generated answer fails to acknowledge the relevant information presented in the original answer.\"\\n}',\n",
       " '{\\n  \"Relevance\": \"RELEVANT\",\\n  \"Explanation\": \"The generated answer correctly identifies the function `std()` to compute the standard deviation from a pandas series and provides an appropriate example, directly addressing the generated question based on the context of the original answer.\"\\n}',\n",
       " '{\\n  \"Relevance\": \"PARTLY_RELEVANT\",\\n  \"Explanation\": \"The generated answer accurately provides the default value for the number of workers in the fit function, which is 1, as stated in the original answer. However, it lacks the additional context about the training process, GPU usage, and the specific experiences mentioned in the original answer, making it only partly relevant.\"\\n}',\n",
       " '{\\n  \"Relevance\": \"RELEVANT\",\\n  \"Explanation\": \"The generated answer directly addresses the problem stated in the generated question regarding Keras model loading errors due to optimizer issues. It provides the exact solution as the original answer, including the correct code usage, making it highly relevant and aligned with the original content.\"\\n}',\n",
       " '{\\n  \"Relevance\": \"PARTLY_RELEVANT\",\\n  \"Explanation\": \"The generated answer focuses on how to verify results for evaluation metrics using the scikit-learn library, which is relevant to the context of evaluating thresholds with the same F1 score. However, it does not directly address the concern about having multiple thresholds with the same F1 score or suggest methods for choosing among them, making it only partly relevant.\"\\n}',\n",
       " '{\\n  \"Relevance\": \"RELEVANT\",\\n  \"Explanation\": \"The generated answer closely mirrors the original answer in content and context. It addresses the necessity of regularization in machine learning, emphasizing that it is not always required and detailing the conditions under which it should be considered. The key points regarding small datasets, complex models, overfitting, and the evaluation of each case individually are present in both answers, making them highly aligned.\"\\n}',\n",
       " '{\\n  \"Relevance\": \"RELEVANT\",\\n  \"Explanation\": \"The generated answer accurately describes the role of `np.sign` in the context of finding the intercept between precision and recall curves. It explains how `np.sign` is used to identify the sign change in the difference between precision and recall values, which is the key aspect of the original answer. Additionally, it mentions the use of `np.diff` and `np.argwhere`, aligning well with the original content.\"\\n}',\n",
       " '{\\n  \"Relevance\": \"RELEVANT\",\\n  \"Explanation\": \"The generated answer directly addresses the issue of running out of storage after building Docker images. It includes the key steps mentioned in the original answer, such as removing unused Docker images and running \\'docker system prune\\', thereby providing a clear and accurate solution to the problem presented.\"\\n}',\n",
       " '{\\n  \"Relevance\": \"RELEVANT\",\\n  \"Explanation\": \"The generated answer accurately summarizes the key points of the original answer regarding the order in which folders are read in TensorFlow, specifically in alphabetical order, and provides relevant examples consistent with the original information.\"\\n}',\n",
       " '{\\n  \"Relevance\": \"RELEVANT\",\\n  \"Explanation\": \"The generated answer accurately reflects the instructions provided in the original answer, specifying the correct file to modify and including the necessary lines to add. It also correctly instructs the user to restart Docker, which matches the original context, providing a complete and relevant response to the question.\"\\n}',\n",
       " '{\\n  \"Relevance\": \"RELEVANT\",\\n  \"Explanation\": \"The generated answer directly addresses the question about the number of models required for the midterm by stating that one should train as many models as possible, which aligns perfectly with the original answer. Both assert that having more than one model is sufficient, thus maintaining the same context and meaning.\"\\n}',\n",
       " '{\\n  \"Relevance\": \"RELEVANT\",\\n  \"Explanation\": \"The generated answer accurately explains why a threshold of 1.0 results in both FPR and TPR being 0.0. It discusses the condition for belonging to the positive class and correctly notes that the sigmoid function\\'s output cannot satisfy the threshold, aligning well with the original answer\\'s content and context.\"\\n}',\n",
       " '{\\n  \"Relevance\": \"RELEVANT\",\\n  \"Explanation\": \"The generated answer directly addresses the question by providing the pandas method for calculating the standard deviation and includes relevant examples. It effectively expands on the original response by including additional use cases for both Series and DataFrame, while still being aligned with the original answer\\'s content.\"\\n}',\n",
       " '{\\n  \"Relevance\": \"RELEVANT\",\\n  \"Explanation\": \"The generated answer directly addresses the question regarding the exclusion of df_train_full by explaining that it contains both training and validation datasets. It aligns well with the original answer\\'s context and reasoning, providing a clear justification for focusing solely on df_train, thereby making it highly relevant.\"\\n}',\n",
       " '{\\n  \"Relevance\": \"NON_RELEVANT\",\\n  \"Explanation\": \"The generated answer addresses a completely different question about setting up a Conda environment, which is unrelated to the original answer regarding homework access and repository visibility. There is no contextual connection between the two.\"\\n}',\n",
       " '{\\n  \"Relevance\": \"RELEVANT\",\\n  \"Explanation\": \"The generated answer addresses the specific issue of fixing a ValueError related to feature names in XGBoost and provides a solution that aligns closely with the original answer. It mentions the removal of unsupported characters, includes code for the regex replacement, and suggests an alternative solution by not specifying \\'feature_names=\\'. This captures the key points from the original content effectively.\"\\n}',\n",
       " '{\\n  \"Relevance\": \"RELEVANT\",\\n  \"Explanation\": \"The generated answer addresses the specific issue of not being able to connect to the Docker daemon on WSL effectively. It provides a step-by-step approach for troubleshooting the WSL connection issue, which aligns closely with the original answer\\'s guidance about re-installing Docker on WSL and the Docker Desktop integration. This makes the generated answer a comprehensive and relevant solution to the question posed.\"\\n}',\n",
       " '{\\n  \"Relevance\": \"PARTLY_RELEVANT\",\\n  \"Explanation\": \"The generated answer provides information about the midterm project and its requirements for receiving a certificate, which is related to the topic of the original answer. However, the original answer does not specifically address the question about the midterm project being mandatory, and instead refers to a previous answer without elaborating. Thus, while the generated answer is informative, it doesn\\'t directly connect to the context established by the original answer.\"\\n}',\n",
       " '{\\n  \"Relevance\": \"PARTLY_RELEVANT\",\\n  \"Explanation\": \"The generated answer acknowledges the lack of specific commands in the provided context but fails to address the commands actually included in the original answer. While it is true that the original answer contains commands to start the Docker daemon on Linux, the generated answer does not recognize or include them, which leads to partial relevance.\"\\n}',\n",
       " '{\\n  \"Relevance\": \"PARTLY_RELEVANT\",\\n  \"Explanation\": \"The generated answer addresses the eligibility for certification, which is related to the topic of the original answer. However, it adds specific criteria (completing at least 2 out of 3 projects and reviewing 3 peers\\' projects) that were not mentioned in the original answer. While it pertains to eligibility, it provides additional information that could deviate from the simplicity of the original response.\"\\n}',\n",
       " '{\\n  \"Relevance\": \"RELEVANT\",\\n  \"Explanation\": \"The generated answer directly addresses the question about installing md5sum on Mac and correctly provides both the installation command and the command to check the hashes, mirroring the information in the original answer.\"\\n}',\n",
       " '{\\n  \"Relevance\": \"RELEVANT\",\\n  \"Explanation\": \"The generated answer accurately explains how to transfer files to a Docker container using the \\'docker cp\\' command and includes the same syntax provided in the original answer. It maintains the key information and instructional context, making it highly relevant.\"\\n}',\n",
       " '{\\n  \"Relevance\": \"NON_RELEVANT\",\\n  \"Explanation\": \"The generated answer states that there is no mention of a YouTube video on Evaluation Metrics for Classification, which contradicts the original answer that includes a YouTube link. Therefore, it fails to acknowledge the provided resource and is not relevant to the original query.\"\\n}']"
      ]
     },
     "execution_count": 85,
     "metadata": {},
     "output_type": "execute_result"
    }
   ],
   "source": [
    "evaluations"
   ]
  },
  {
   "cell_type": "code",
   "execution_count": 86,
   "id": "f3afb95a-53b9-474d-87fc-3d4461a7f27d",
   "metadata": {
    "scrolled": true
   },
   "outputs": [],
   "source": [
    "json_evaluations = []\n",
    "\n",
    "for i, str_eval in enumerate(evaluations):\n",
    "    json_eval = json.loads(str_eval)\n",
    "    json_evaluations.append(json_eval)"
   ]
  },
  {
   "cell_type": "code",
   "execution_count": 87,
   "id": "10f11be9",
   "metadata": {},
   "outputs": [
    {
     "data": {
      "text/plain": [
       "[{'Relevance': 'RELEVANT',\n",
       "  'Explanation': 'The generated answer directly provides the syntax for using `precision_recall_fscore_support`, which is exactly what the original answer discussed. The content matches perfectly, including the code example.'},\n",
       " {'Relevance': 'RELEVANT',\n",
       "  'Explanation': 'The generated answer directly addresses the question about modifying scripts to avoid pickle errors when using waitress. It accurately summarizes the solution provided in the original answer, including the key detail of placing the custom column transformer class into a separate module and importing it in both the saving and loading scripts. Thus, it maintains high relevance and fidelity to the original content.'},\n",
       " {'Relevance': 'RELEVANT',\n",
       "  'Explanation': 'The generated answer directly provides the command needed to launch a container image in interactive mode, which is the focus of the original answer. It accurately reflects the key information given in the original response without any omissions.'},\n",
       " {'Relevance': 'RELEVANT',\n",
       "  'Explanation': 'The generated answer directly addresses the question about making a pull request for homework solutions using PyTorch. It accurately reflects the information provided in the original answer, confirming that submissions in PyTorch are encouraged, even though Keras is primarily used for lessons and homework. This shows a high degree of relevance and alignment with the original content.'},\n",
       " {'Relevance': 'NON_RELEVANT',\n",
       "  'Explanation': 'The generated answer discusses a pip version error related to Scikit-Learn, which is not relevant to the original answer that specifically addresses a docker build error due to a python wheel version mismatch. The context and subject matter differ significantly.'},\n",
       " {'Relevance': 'RELEVANT',\n",
       "  'Explanation': \"The generated answer directly addresses the question about what command to run after editing the metrics-server to check the HPA status. It accurately provides the command 'kubectl get hpa' as stated in the original answer, making it fully relevant to the context.\"},\n",
       " {'Relevance': 'RELEVANT',\n",
       "  'Explanation': \"The generated answer accurately addresses the user's question about checking the AWS CLI version for eksctl compatibility, providing the correct command and confirming the requirement for AWS CLI version 2. It also includes the same reference link as the original answer, maintaining relevance to the original content.\"},\n",
       " {'Relevance': 'RELEVANT',\n",
       "  'Explanation': \"The generated answer effectively addresses the question regarding the reason for different accuracy values by highlighting how the method of splitting data can affect the resulting datasets used for training and testing. It closely aligns with the original answer's focus on data splitting, maintaining relevance in terms of content and context.\"},\n",
       " {'Relevance': 'RELEVANT',\n",
       "  'Explanation': \"The generated answer directly addresses the concern raised in the generated question regarding the loss of the REMOTE_URI variable after the session ends. It correctly explains how to set the variable again using the export command and emphasizes the need to do this each time a new session starts, which mirrors the original answer's content and intent.\"},\n",
       " {'Relevance': 'RELEVANT',\n",
       "  'Explanation': 'The generated answer directly addresses the question about the location of the script for generating the Kitchenware Classification Competition dataset and provides the same link mentioned in the original answer. The content is consistent and accurately reflects the original information.'},\n",
       " {'Relevance': 'RELEVANT',\n",
       "  'Explanation': 'The generated answer accurately presents the solution to the TensorFlow Serving error on Apple M1 Mac as detailed in the original answer. It correctly identifies the needed Docker image change and provides the exact commands to pull and run the correct Docker image, maintaining alignment with the original content while summarizing it effectively.'},\n",
       " {'Relevance': 'NON_RELEVANT',\n",
       "  'Explanation': \"The generated answer provides steps related to resolving a NotSupportedError caused by protobuf package issues, which is unrelated to the original question regarding the usage of 'eb local' with Docker platforms. The original answer specifically addresses a configuration issue with AWS Elastic Beanstalk and Docker, making the generated response irrelevant to the context.\"},\n",
       " {'Relevance': 'RELEVANT',\n",
       "  'Explanation': 'The generated answer directly addresses the question about who provided the solution for fixing the error in the Keras model training, and it accurately states that Tzvi Friedman added the solution. Therefore, it is highly relevant to the original answer.'},\n",
       " {'Relevance': 'RELEVANT',\n",
       "  'Explanation': \"The generated answer accurately describes the first step to install 'kind' through choco by mentioning the need to launch a PowerShell terminal with administrator privileges and includes the command to install the choco library, which directly corresponds to the original answer.\"},\n",
       " {'Relevance': 'RELEVANT',\n",
       "  'Explanation': 'The generated answer not only directly responds to the question regarding a method to fetch data using the requests library but also accurately reproduces the original answer’s code example without any significant alterations. It maintains the same context, purpose, and functionality as the original answer.'},\n",
       " {'Relevance': 'RELEVANT',\n",
       "  'Explanation': 'The generated answer accurately addresses the question about using the mean_squared_error function to compute RMSE in one step. It clearly explains how to use the function with the squared parameter set to False, which aligns with the method mentioned in the original answer. Both answers provide the same key information and code example, demonstrating consistency in the explanation.'},\n",
       " {'Relevance': 'RELEVANT',\n",
       "  'Explanation': 'The generated answer directly addresses the question about where to find documentation on how Lambda functions are initialized by providing the same links that were included in the original answer, showing a clear alignment in content and context.'},\n",
       " {'Relevance': 'RELEVANT',\n",
       "  'Explanation': 'The generated answer directly addresses the question about reading data from a GitHub URL using pandas and correctly provides the exact code snippet from the original answer. It maintains the same context and delivers the same information clearly.'},\n",
       " {'Relevance': 'RELEVANT',\n",
       "  'Explanation': \"The generated answer directly addresses the original question about why all missing values end up in the training dataframe when using a random seed of 42. It explains the consistency and reproducibility of data splitting associated with the seed value, mirroring the original answer's reasoning. Both answers articulate how the seed affects the distribution of missing values across dataframes.\"},\n",
       " {'Relevance': 'RELEVANT',\n",
       "  'Explanation': 'The generated answer provides a comprehensive response to the question about where to find materials related to the cohort. It accurately captures the essential steps and links mentioned in the original answer, ensuring that the user receives all necessary information clearly and directly.'},\n",
       " {'Relevance': 'RELEVANT',\n",
       "  'Explanation': 'The generated answer directly addresses the question about a link to learn more about the California housing dataset and provides the same URL as in the original answer, thereby maintaining the content and context perfectly.'},\n",
       " {'Relevance': 'RELEVANT',\n",
       "  'Explanation': 'The generated answer accurately identifies Random Forest as the bagging algorithm and XGBoost as the boosting algorithm, which aligns perfectly with the original answer. It succinctly explains the essence of both algorithms, directly addressing the question posed.'},\n",
       " {'Relevance': 'RELEVANT',\n",
       "  'Explanation': 'The generated answer accurately identifies the contributor, Ella Sahnan, regarding the information about using metrics on a series or dataframe, which directly corresponds to the original answer.'},\n",
       " {'Relevance': 'RELEVANT',\n",
       "  'Explanation': 'The generated answer directly responds to the request for a video on the normal form derivation for regression, and it specifically references the same video mentioned in the original answer, indicating a clear connection in content and context.'},\n",
       " {'Relevance': 'PARTLY_RELEVANT',\n",
       "  'Explanation': \"The generated answer addresses the question about GCP's free services, which is related to the original discussion about deploying a docker image with limited RAM. However, it lacks the context regarding other alternatives provided in the original answer, such as AWS, Saturn, and specific details about GPU hours.\"},\n",
       " {'Relevance': 'RELEVANT',\n",
       "  'Explanation': \"The generated answer directly addresses the generated question by providing the same link to the guide for using Docker in Google Colab as mentioned in the original answer. It maintains the context and is clearly relevant to the user's inquiry.\"},\n",
       " {'Relevance': 'RELEVANT',\n",
       "  'Explanation': \"The generated answer directly addresses the generated question by providing the exact command needed to import the 'mean_squared_error' function from sklearn, which is essential for calculating the Root Mean Squared Error. This corresponds accurately with the relevant part of the original answer.\"},\n",
       " {'Relevance': 'NON_RELEVANT',\n",
       "  'Explanation': 'The generated answer incorrectly states that there is no alternative command when the region is configured by default, whereas the original answer explicitly provides an alternative command for that scenario. The generated answer fails to acknowledge the relevant information presented in the original answer.'},\n",
       " {'Relevance': 'RELEVANT',\n",
       "  'Explanation': 'The generated answer correctly identifies the function `std()` to compute the standard deviation from a pandas series and provides an appropriate example, directly addressing the generated question based on the context of the original answer.'},\n",
       " {'Relevance': 'PARTLY_RELEVANT',\n",
       "  'Explanation': 'The generated answer accurately provides the default value for the number of workers in the fit function, which is 1, as stated in the original answer. However, it lacks the additional context about the training process, GPU usage, and the specific experiences mentioned in the original answer, making it only partly relevant.'},\n",
       " {'Relevance': 'RELEVANT',\n",
       "  'Explanation': 'The generated answer directly addresses the problem stated in the generated question regarding Keras model loading errors due to optimizer issues. It provides the exact solution as the original answer, including the correct code usage, making it highly relevant and aligned with the original content.'},\n",
       " {'Relevance': 'PARTLY_RELEVANT',\n",
       "  'Explanation': 'The generated answer focuses on how to verify results for evaluation metrics using the scikit-learn library, which is relevant to the context of evaluating thresholds with the same F1 score. However, it does not directly address the concern about having multiple thresholds with the same F1 score or suggest methods for choosing among them, making it only partly relevant.'},\n",
       " {'Relevance': 'RELEVANT',\n",
       "  'Explanation': 'The generated answer closely mirrors the original answer in content and context. It addresses the necessity of regularization in machine learning, emphasizing that it is not always required and detailing the conditions under which it should be considered. The key points regarding small datasets, complex models, overfitting, and the evaluation of each case individually are present in both answers, making them highly aligned.'},\n",
       " {'Relevance': 'RELEVANT',\n",
       "  'Explanation': 'The generated answer accurately describes the role of `np.sign` in the context of finding the intercept between precision and recall curves. It explains how `np.sign` is used to identify the sign change in the difference between precision and recall values, which is the key aspect of the original answer. Additionally, it mentions the use of `np.diff` and `np.argwhere`, aligning well with the original content.'},\n",
       " {'Relevance': 'RELEVANT',\n",
       "  'Explanation': \"The generated answer directly addresses the issue of running out of storage after building Docker images. It includes the key steps mentioned in the original answer, such as removing unused Docker images and running 'docker system prune', thereby providing a clear and accurate solution to the problem presented.\"},\n",
       " {'Relevance': 'RELEVANT',\n",
       "  'Explanation': 'The generated answer accurately summarizes the key points of the original answer regarding the order in which folders are read in TensorFlow, specifically in alphabetical order, and provides relevant examples consistent with the original information.'},\n",
       " {'Relevance': 'RELEVANT',\n",
       "  'Explanation': 'The generated answer accurately reflects the instructions provided in the original answer, specifying the correct file to modify and including the necessary lines to add. It also correctly instructs the user to restart Docker, which matches the original context, providing a complete and relevant response to the question.'},\n",
       " {'Relevance': 'RELEVANT',\n",
       "  'Explanation': 'The generated answer directly addresses the question about the number of models required for the midterm by stating that one should train as many models as possible, which aligns perfectly with the original answer. Both assert that having more than one model is sufficient, thus maintaining the same context and meaning.'},\n",
       " {'Relevance': 'RELEVANT',\n",
       "  'Explanation': \"The generated answer accurately explains why a threshold of 1.0 results in both FPR and TPR being 0.0. It discusses the condition for belonging to the positive class and correctly notes that the sigmoid function's output cannot satisfy the threshold, aligning well with the original answer's content and context.\"},\n",
       " {'Relevance': 'RELEVANT',\n",
       "  'Explanation': \"The generated answer directly addresses the question by providing the pandas method for calculating the standard deviation and includes relevant examples. It effectively expands on the original response by including additional use cases for both Series and DataFrame, while still being aligned with the original answer's content.\"},\n",
       " {'Relevance': 'RELEVANT',\n",
       "  'Explanation': \"The generated answer directly addresses the question regarding the exclusion of df_train_full by explaining that it contains both training and validation datasets. It aligns well with the original answer's context and reasoning, providing a clear justification for focusing solely on df_train, thereby making it highly relevant.\"},\n",
       " {'Relevance': 'NON_RELEVANT',\n",
       "  'Explanation': 'The generated answer addresses a completely different question about setting up a Conda environment, which is unrelated to the original answer regarding homework access and repository visibility. There is no contextual connection between the two.'},\n",
       " {'Relevance': 'RELEVANT',\n",
       "  'Explanation': \"The generated answer addresses the specific issue of fixing a ValueError related to feature names in XGBoost and provides a solution that aligns closely with the original answer. It mentions the removal of unsupported characters, includes code for the regex replacement, and suggests an alternative solution by not specifying 'feature_names='. This captures the key points from the original content effectively.\"},\n",
       " {'Relevance': 'RELEVANT',\n",
       "  'Explanation': \"The generated answer addresses the specific issue of not being able to connect to the Docker daemon on WSL effectively. It provides a step-by-step approach for troubleshooting the WSL connection issue, which aligns closely with the original answer's guidance about re-installing Docker on WSL and the Docker Desktop integration. This makes the generated answer a comprehensive and relevant solution to the question posed.\"},\n",
       " {'Relevance': 'PARTLY_RELEVANT',\n",
       "  'Explanation': \"The generated answer provides information about the midterm project and its requirements for receiving a certificate, which is related to the topic of the original answer. However, the original answer does not specifically address the question about the midterm project being mandatory, and instead refers to a previous answer without elaborating. Thus, while the generated answer is informative, it doesn't directly connect to the context established by the original answer.\"},\n",
       " {'Relevance': 'PARTLY_RELEVANT',\n",
       "  'Explanation': 'The generated answer acknowledges the lack of specific commands in the provided context but fails to address the commands actually included in the original answer. While it is true that the original answer contains commands to start the Docker daemon on Linux, the generated answer does not recognize or include them, which leads to partial relevance.'},\n",
       " {'Relevance': 'PARTLY_RELEVANT',\n",
       "  'Explanation': \"The generated answer addresses the eligibility for certification, which is related to the topic of the original answer. However, it adds specific criteria (completing at least 2 out of 3 projects and reviewing 3 peers' projects) that were not mentioned in the original answer. While it pertains to eligibility, it provides additional information that could deviate from the simplicity of the original response.\"},\n",
       " {'Relevance': 'RELEVANT',\n",
       "  'Explanation': 'The generated answer directly addresses the question about installing md5sum on Mac and correctly provides both the installation command and the command to check the hashes, mirroring the information in the original answer.'},\n",
       " {'Relevance': 'RELEVANT',\n",
       "  'Explanation': \"The generated answer accurately explains how to transfer files to a Docker container using the 'docker cp' command and includes the same syntax provided in the original answer. It maintains the key information and instructional context, making it highly relevant.\"},\n",
       " {'Relevance': 'NON_RELEVANT',\n",
       "  'Explanation': 'The generated answer states that there is no mention of a YouTube video on Evaluation Metrics for Classification, which contradicts the original answer that includes a YouTube link. Therefore, it fails to acknowledge the provided resource and is not relevant to the original query.'}]"
      ]
     },
     "execution_count": 87,
     "metadata": {},
     "output_type": "execute_result"
    }
   ],
   "source": [
    "json_evaluations"
   ]
  },
  {
   "cell_type": "code",
   "execution_count": 88,
   "id": "a6419c24-1a39-4d3b-9468-b99208355035",
   "metadata": {},
   "outputs": [],
   "source": [
    "df_evaluations = pd.DataFrame(json_evaluations)"
   ]
  },
  {
   "cell_type": "code",
   "execution_count": 89,
   "id": "1c9d733a",
   "metadata": {},
   "outputs": [
    {
     "data": {
      "text/html": [
       "<div>\n",
       "<style scoped>\n",
       "    .dataframe tbody tr th:only-of-type {\n",
       "        vertical-align: middle;\n",
       "    }\n",
       "\n",
       "    .dataframe tbody tr th {\n",
       "        vertical-align: top;\n",
       "    }\n",
       "\n",
       "    .dataframe thead th {\n",
       "        text-align: right;\n",
       "    }\n",
       "</style>\n",
       "<table border=\"1\" class=\"dataframe\">\n",
       "  <thead>\n",
       "    <tr style=\"text-align: right;\">\n",
       "      <th></th>\n",
       "      <th>Relevance</th>\n",
       "      <th>Explanation</th>\n",
       "    </tr>\n",
       "  </thead>\n",
       "  <tbody>\n",
       "    <tr>\n",
       "      <th>0</th>\n",
       "      <td>RELEVANT</td>\n",
       "      <td>The generated answer directly provides the syn...</td>\n",
       "    </tr>\n",
       "    <tr>\n",
       "      <th>1</th>\n",
       "      <td>RELEVANT</td>\n",
       "      <td>The generated answer directly addresses the qu...</td>\n",
       "    </tr>\n",
       "    <tr>\n",
       "      <th>2</th>\n",
       "      <td>RELEVANT</td>\n",
       "      <td>The generated answer directly provides the com...</td>\n",
       "    </tr>\n",
       "    <tr>\n",
       "      <th>3</th>\n",
       "      <td>RELEVANT</td>\n",
       "      <td>The generated answer directly addresses the qu...</td>\n",
       "    </tr>\n",
       "    <tr>\n",
       "      <th>4</th>\n",
       "      <td>NON_RELEVANT</td>\n",
       "      <td>The generated answer discusses a pip version e...</td>\n",
       "    </tr>\n",
       "    <tr>\n",
       "      <th>5</th>\n",
       "      <td>RELEVANT</td>\n",
       "      <td>The generated answer directly addresses the qu...</td>\n",
       "    </tr>\n",
       "    <tr>\n",
       "      <th>6</th>\n",
       "      <td>RELEVANT</td>\n",
       "      <td>The generated answer accurately addresses the ...</td>\n",
       "    </tr>\n",
       "    <tr>\n",
       "      <th>7</th>\n",
       "      <td>RELEVANT</td>\n",
       "      <td>The generated answer effectively addresses the...</td>\n",
       "    </tr>\n",
       "    <tr>\n",
       "      <th>8</th>\n",
       "      <td>RELEVANT</td>\n",
       "      <td>The generated answer directly addresses the co...</td>\n",
       "    </tr>\n",
       "    <tr>\n",
       "      <th>9</th>\n",
       "      <td>RELEVANT</td>\n",
       "      <td>The generated answer directly addresses the qu...</td>\n",
       "    </tr>\n",
       "    <tr>\n",
       "      <th>10</th>\n",
       "      <td>RELEVANT</td>\n",
       "      <td>The generated answer accurately presents the s...</td>\n",
       "    </tr>\n",
       "    <tr>\n",
       "      <th>11</th>\n",
       "      <td>NON_RELEVANT</td>\n",
       "      <td>The generated answer provides steps related to...</td>\n",
       "    </tr>\n",
       "    <tr>\n",
       "      <th>12</th>\n",
       "      <td>RELEVANT</td>\n",
       "      <td>The generated answer directly addresses the qu...</td>\n",
       "    </tr>\n",
       "    <tr>\n",
       "      <th>13</th>\n",
       "      <td>RELEVANT</td>\n",
       "      <td>The generated answer accurately describes the ...</td>\n",
       "    </tr>\n",
       "    <tr>\n",
       "      <th>14</th>\n",
       "      <td>RELEVANT</td>\n",
       "      <td>The generated answer not only directly respond...</td>\n",
       "    </tr>\n",
       "    <tr>\n",
       "      <th>15</th>\n",
       "      <td>RELEVANT</td>\n",
       "      <td>The generated answer accurately addresses the ...</td>\n",
       "    </tr>\n",
       "    <tr>\n",
       "      <th>16</th>\n",
       "      <td>RELEVANT</td>\n",
       "      <td>The generated answer directly addresses the qu...</td>\n",
       "    </tr>\n",
       "    <tr>\n",
       "      <th>17</th>\n",
       "      <td>RELEVANT</td>\n",
       "      <td>The generated answer directly addresses the qu...</td>\n",
       "    </tr>\n",
       "    <tr>\n",
       "      <th>18</th>\n",
       "      <td>RELEVANT</td>\n",
       "      <td>The generated answer directly addresses the or...</td>\n",
       "    </tr>\n",
       "    <tr>\n",
       "      <th>19</th>\n",
       "      <td>RELEVANT</td>\n",
       "      <td>The generated answer provides a comprehensive ...</td>\n",
       "    </tr>\n",
       "    <tr>\n",
       "      <th>20</th>\n",
       "      <td>RELEVANT</td>\n",
       "      <td>The generated answer directly addresses the qu...</td>\n",
       "    </tr>\n",
       "    <tr>\n",
       "      <th>21</th>\n",
       "      <td>RELEVANT</td>\n",
       "      <td>The generated answer accurately identifies Ran...</td>\n",
       "    </tr>\n",
       "    <tr>\n",
       "      <th>22</th>\n",
       "      <td>RELEVANT</td>\n",
       "      <td>The generated answer accurately identifies the...</td>\n",
       "    </tr>\n",
       "    <tr>\n",
       "      <th>23</th>\n",
       "      <td>RELEVANT</td>\n",
       "      <td>The generated answer directly responds to the ...</td>\n",
       "    </tr>\n",
       "    <tr>\n",
       "      <th>24</th>\n",
       "      <td>PARTLY_RELEVANT</td>\n",
       "      <td>The generated answer addresses the question ab...</td>\n",
       "    </tr>\n",
       "    <tr>\n",
       "      <th>25</th>\n",
       "      <td>RELEVANT</td>\n",
       "      <td>The generated answer directly addresses the ge...</td>\n",
       "    </tr>\n",
       "    <tr>\n",
       "      <th>26</th>\n",
       "      <td>RELEVANT</td>\n",
       "      <td>The generated answer directly addresses the ge...</td>\n",
       "    </tr>\n",
       "    <tr>\n",
       "      <th>27</th>\n",
       "      <td>NON_RELEVANT</td>\n",
       "      <td>The generated answer incorrectly states that t...</td>\n",
       "    </tr>\n",
       "    <tr>\n",
       "      <th>28</th>\n",
       "      <td>RELEVANT</td>\n",
       "      <td>The generated answer correctly identifies the ...</td>\n",
       "    </tr>\n",
       "    <tr>\n",
       "      <th>29</th>\n",
       "      <td>PARTLY_RELEVANT</td>\n",
       "      <td>The generated answer accurately provides the d...</td>\n",
       "    </tr>\n",
       "    <tr>\n",
       "      <th>30</th>\n",
       "      <td>RELEVANT</td>\n",
       "      <td>The generated answer directly addresses the pr...</td>\n",
       "    </tr>\n",
       "    <tr>\n",
       "      <th>31</th>\n",
       "      <td>PARTLY_RELEVANT</td>\n",
       "      <td>The generated answer focuses on how to verify ...</td>\n",
       "    </tr>\n",
       "    <tr>\n",
       "      <th>32</th>\n",
       "      <td>RELEVANT</td>\n",
       "      <td>The generated answer closely mirrors the origi...</td>\n",
       "    </tr>\n",
       "    <tr>\n",
       "      <th>33</th>\n",
       "      <td>RELEVANT</td>\n",
       "      <td>The generated answer accurately describes the ...</td>\n",
       "    </tr>\n",
       "    <tr>\n",
       "      <th>34</th>\n",
       "      <td>RELEVANT</td>\n",
       "      <td>The generated answer directly addresses the is...</td>\n",
       "    </tr>\n",
       "    <tr>\n",
       "      <th>35</th>\n",
       "      <td>RELEVANT</td>\n",
       "      <td>The generated answer accurately summarizes the...</td>\n",
       "    </tr>\n",
       "    <tr>\n",
       "      <th>36</th>\n",
       "      <td>RELEVANT</td>\n",
       "      <td>The generated answer accurately reflects the i...</td>\n",
       "    </tr>\n",
       "    <tr>\n",
       "      <th>37</th>\n",
       "      <td>RELEVANT</td>\n",
       "      <td>The generated answer directly addresses the qu...</td>\n",
       "    </tr>\n",
       "    <tr>\n",
       "      <th>38</th>\n",
       "      <td>RELEVANT</td>\n",
       "      <td>The generated answer accurately explains why a...</td>\n",
       "    </tr>\n",
       "    <tr>\n",
       "      <th>39</th>\n",
       "      <td>RELEVANT</td>\n",
       "      <td>The generated answer directly addresses the qu...</td>\n",
       "    </tr>\n",
       "    <tr>\n",
       "      <th>40</th>\n",
       "      <td>RELEVANT</td>\n",
       "      <td>The generated answer directly addresses the qu...</td>\n",
       "    </tr>\n",
       "    <tr>\n",
       "      <th>41</th>\n",
       "      <td>NON_RELEVANT</td>\n",
       "      <td>The generated answer addresses a completely di...</td>\n",
       "    </tr>\n",
       "    <tr>\n",
       "      <th>42</th>\n",
       "      <td>RELEVANT</td>\n",
       "      <td>The generated answer addresses the specific is...</td>\n",
       "    </tr>\n",
       "    <tr>\n",
       "      <th>43</th>\n",
       "      <td>RELEVANT</td>\n",
       "      <td>The generated answer addresses the specific is...</td>\n",
       "    </tr>\n",
       "    <tr>\n",
       "      <th>44</th>\n",
       "      <td>PARTLY_RELEVANT</td>\n",
       "      <td>The generated answer provides information abou...</td>\n",
       "    </tr>\n",
       "    <tr>\n",
       "      <th>45</th>\n",
       "      <td>PARTLY_RELEVANT</td>\n",
       "      <td>The generated answer acknowledges the lack of ...</td>\n",
       "    </tr>\n",
       "    <tr>\n",
       "      <th>46</th>\n",
       "      <td>PARTLY_RELEVANT</td>\n",
       "      <td>The generated answer addresses the eligibility...</td>\n",
       "    </tr>\n",
       "    <tr>\n",
       "      <th>47</th>\n",
       "      <td>RELEVANT</td>\n",
       "      <td>The generated answer directly addresses the qu...</td>\n",
       "    </tr>\n",
       "    <tr>\n",
       "      <th>48</th>\n",
       "      <td>RELEVANT</td>\n",
       "      <td>The generated answer accurately explains how t...</td>\n",
       "    </tr>\n",
       "    <tr>\n",
       "      <th>49</th>\n",
       "      <td>NON_RELEVANT</td>\n",
       "      <td>The generated answer states that there is no m...</td>\n",
       "    </tr>\n",
       "  </tbody>\n",
       "</table>\n",
       "</div>"
      ],
      "text/plain": [
       "          Relevance                                        Explanation\n",
       "0          RELEVANT  The generated answer directly provides the syn...\n",
       "1          RELEVANT  The generated answer directly addresses the qu...\n",
       "2          RELEVANT  The generated answer directly provides the com...\n",
       "3          RELEVANT  The generated answer directly addresses the qu...\n",
       "4      NON_RELEVANT  The generated answer discusses a pip version e...\n",
       "5          RELEVANT  The generated answer directly addresses the qu...\n",
       "6          RELEVANT  The generated answer accurately addresses the ...\n",
       "7          RELEVANT  The generated answer effectively addresses the...\n",
       "8          RELEVANT  The generated answer directly addresses the co...\n",
       "9          RELEVANT  The generated answer directly addresses the qu...\n",
       "10         RELEVANT  The generated answer accurately presents the s...\n",
       "11     NON_RELEVANT  The generated answer provides steps related to...\n",
       "12         RELEVANT  The generated answer directly addresses the qu...\n",
       "13         RELEVANT  The generated answer accurately describes the ...\n",
       "14         RELEVANT  The generated answer not only directly respond...\n",
       "15         RELEVANT  The generated answer accurately addresses the ...\n",
       "16         RELEVANT  The generated answer directly addresses the qu...\n",
       "17         RELEVANT  The generated answer directly addresses the qu...\n",
       "18         RELEVANT  The generated answer directly addresses the or...\n",
       "19         RELEVANT  The generated answer provides a comprehensive ...\n",
       "20         RELEVANT  The generated answer directly addresses the qu...\n",
       "21         RELEVANT  The generated answer accurately identifies Ran...\n",
       "22         RELEVANT  The generated answer accurately identifies the...\n",
       "23         RELEVANT  The generated answer directly responds to the ...\n",
       "24  PARTLY_RELEVANT  The generated answer addresses the question ab...\n",
       "25         RELEVANT  The generated answer directly addresses the ge...\n",
       "26         RELEVANT  The generated answer directly addresses the ge...\n",
       "27     NON_RELEVANT  The generated answer incorrectly states that t...\n",
       "28         RELEVANT  The generated answer correctly identifies the ...\n",
       "29  PARTLY_RELEVANT  The generated answer accurately provides the d...\n",
       "30         RELEVANT  The generated answer directly addresses the pr...\n",
       "31  PARTLY_RELEVANT  The generated answer focuses on how to verify ...\n",
       "32         RELEVANT  The generated answer closely mirrors the origi...\n",
       "33         RELEVANT  The generated answer accurately describes the ...\n",
       "34         RELEVANT  The generated answer directly addresses the is...\n",
       "35         RELEVANT  The generated answer accurately summarizes the...\n",
       "36         RELEVANT  The generated answer accurately reflects the i...\n",
       "37         RELEVANT  The generated answer directly addresses the qu...\n",
       "38         RELEVANT  The generated answer accurately explains why a...\n",
       "39         RELEVANT  The generated answer directly addresses the qu...\n",
       "40         RELEVANT  The generated answer directly addresses the qu...\n",
       "41     NON_RELEVANT  The generated answer addresses a completely di...\n",
       "42         RELEVANT  The generated answer addresses the specific is...\n",
       "43         RELEVANT  The generated answer addresses the specific is...\n",
       "44  PARTLY_RELEVANT  The generated answer provides information abou...\n",
       "45  PARTLY_RELEVANT  The generated answer acknowledges the lack of ...\n",
       "46  PARTLY_RELEVANT  The generated answer addresses the eligibility...\n",
       "47         RELEVANT  The generated answer directly addresses the qu...\n",
       "48         RELEVANT  The generated answer accurately explains how t...\n",
       "49     NON_RELEVANT  The generated answer states that there is no m..."
      ]
     },
     "execution_count": 89,
     "metadata": {},
     "output_type": "execute_result"
    }
   ],
   "source": [
    "df_evaluations"
   ]
  },
  {
   "cell_type": "code",
   "execution_count": 90,
   "id": "a1d6aa1e-8c91-4a90-82e4-e2046a0e5be0",
   "metadata": {},
   "outputs": [
    {
     "data": {
      "text/plain": [
       "Relevance\n",
       "RELEVANT           39\n",
       "PARTLY_RELEVANT     6\n",
       "NON_RELEVANT        5\n",
       "Name: count, dtype: int64"
      ]
     },
     "execution_count": 90,
     "metadata": {},
     "output_type": "execute_result"
    }
   ],
   "source": [
    "df_evaluations.Relevance.value_counts()"
   ]
  },
  {
   "cell_type": "code",
   "execution_count": 91,
   "id": "3664805d-2500-4b65-9980-de162ccf5df8",
   "metadata": {},
   "outputs": [
    {
     "data": {
      "text/html": [
       "<div>\n",
       "<style scoped>\n",
       "    .dataframe tbody tr th:only-of-type {\n",
       "        vertical-align: middle;\n",
       "    }\n",
       "\n",
       "    .dataframe tbody tr th {\n",
       "        vertical-align: top;\n",
       "    }\n",
       "\n",
       "    .dataframe thead th {\n",
       "        text-align: right;\n",
       "    }\n",
       "</style>\n",
       "<table border=\"1\" class=\"dataframe\">\n",
       "  <thead>\n",
       "    <tr style=\"text-align: right;\">\n",
       "      <th></th>\n",
       "      <th>Relevance</th>\n",
       "      <th>Explanation</th>\n",
       "    </tr>\n",
       "  </thead>\n",
       "  <tbody>\n",
       "    <tr>\n",
       "      <th>4</th>\n",
       "      <td>NON_RELEVANT</td>\n",
       "      <td>The generated answer discusses a pip version e...</td>\n",
       "    </tr>\n",
       "    <tr>\n",
       "      <th>11</th>\n",
       "      <td>NON_RELEVANT</td>\n",
       "      <td>The generated answer provides steps related to...</td>\n",
       "    </tr>\n",
       "    <tr>\n",
       "      <th>27</th>\n",
       "      <td>NON_RELEVANT</td>\n",
       "      <td>The generated answer incorrectly states that t...</td>\n",
       "    </tr>\n",
       "    <tr>\n",
       "      <th>41</th>\n",
       "      <td>NON_RELEVANT</td>\n",
       "      <td>The generated answer addresses a completely di...</td>\n",
       "    </tr>\n",
       "    <tr>\n",
       "      <th>49</th>\n",
       "      <td>NON_RELEVANT</td>\n",
       "      <td>The generated answer states that there is no m...</td>\n",
       "    </tr>\n",
       "  </tbody>\n",
       "</table>\n",
       "</div>"
      ],
      "text/plain": [
       "       Relevance                                        Explanation\n",
       "4   NON_RELEVANT  The generated answer discusses a pip version e...\n",
       "11  NON_RELEVANT  The generated answer provides steps related to...\n",
       "27  NON_RELEVANT  The generated answer incorrectly states that t...\n",
       "41  NON_RELEVANT  The generated answer addresses a completely di...\n",
       "49  NON_RELEVANT  The generated answer states that there is no m..."
      ]
     },
     "execution_count": 91,
     "metadata": {},
     "output_type": "execute_result"
    }
   ],
   "source": [
    "df_evaluations[df_evaluations.Relevance == 'NON_RELEVANT'] #.to_dict(orient='records')"
   ]
  },
  {
   "cell_type": "code",
   "execution_count": 93,
   "id": "550a962b-c807-4dcc-91c4-bb69f47f1c48",
   "metadata": {},
   "outputs": [
    {
     "data": {
      "text/plain": [
       "{'answer_llm': \"The cause of the pip version error in this week's serverless deep learning section could be a version conflict in Scikit-Learn. Specifically, if you are using a different version than what was used during the model training, it can lead to warnings and potential breaking code or invalid results. To resolve this, make sure to use the same version of Scikit-Learn that was used for training the model. For instance, if you trained with version 1.1.1, you should use that same version in your virtual environment.\",\n",
       " 'answer_orig': 'When running docker build -t dino-dragon-model it returns the above error\\nThe most common source of this error in this week is because Alex video shows a version of the wheel with python 8, we need to find a wheel with the version that we are working on. In this case python 9. Another common error is to copy the link, this will also produce the same error, we need to download the raw format:\\nhttps://github.com/alexeygrigorev/tflite-aws-lambda/raw/main/tflite/tflite_runtime-2.7.0-cp39-cp39-linux_x86_64.whl\\nPastor Soto',\n",
       " 'document': '42c09143',\n",
       " 'question': \"What might be the cause of the pip version error in this week's serverless deep learning section?\",\n",
       " 'course': 'machine-learning-zoomcamp',\n",
       " 'cosine': 0.30940458}"
      ]
     },
     "execution_count": 93,
     "metadata": {},
     "output_type": "execute_result"
    }
   ],
   "source": [
    "samples[4]"
   ]
  },
  {
   "cell_type": "code",
   "execution_count": 94,
   "id": "6cdb1246-4769-406c-a9a3-a602ce5d3801",
   "metadata": {},
   "outputs": [
    {
     "name": "stdout",
     "output_type": "stream",
     "text": [
      "You are an expert evaluator for a Retrieval-Augmented Generation (RAG) system.\n",
      "Your task is to analyze the relevance of the generated answer to the given question.\n",
      "Based on the relevance of the generated answer, you will classify it\n",
      "as \"NON_RELEVANT\", \"PARTLY_RELEVANT\", or \"RELEVANT\".\n",
      "\n",
      "Here is the data for evaluation:\n",
      "\n",
      "Question: Do you have a YouTube video covering Evaluation Metrics for Classification?\n",
      "Generated Answer: Based on the provided context, there is no mention of a YouTube video covering Evaluation Metrics for Classification. The information provided focuses on methods to obtain classification metrics and visualizations using libraries such as scikit-learn and Yellowbrick, but does not reference any video resources.\n",
      "\n",
      "Please analyze the content and context of the generated answer in relation to the question\n",
      "and provide your evaluation in parsable JSON without using code blocks:\n",
      "\n",
      "{\n",
      "  \"Relevance\": \"NON_RELEVANT\" | \"PARTLY_RELEVANT\" | \"RELEVANT\",\n",
      "  \"Explanation\": \"[Provide a brief explanation for your evaluation]\"\n",
      "}\n"
     ]
    }
   ],
   "source": [
    "prompt = prompt2_template.format(**record)\n",
    "print(prompt)"
   ]
  },
  {
   "cell_type": "code",
   "execution_count": 95,
   "id": "650e8ecb-80e2-42f1-8039-8d497e3eeca6",
   "metadata": {},
   "outputs": [
    {
     "name": "stdout",
     "output_type": "stream",
     "text": [
      "{\n",
      "  \"Relevance\": \"PARTLY_RELEVANT\",\n",
      "  \"Explanation\": \"The generated answer acknowledges that there is no mention of a YouTube video, which directly addresses the question. However, it provides additional context about classification metrics and relevant libraries, indicating some related information, thus falling into the 'PARTLY_RELEVANT' category.\"\n",
      "}\n"
     ]
    }
   ],
   "source": [
    "evaluation = llm(prompt, model='gpt-4o-mini')\n",
    "print(evaluation)"
   ]
  },
  {
   "cell_type": "code",
   "execution_count": 96,
   "id": "03afffa3-9f7e-47eb-9c17-46ae39e38424",
   "metadata": {},
   "outputs": [
    {
     "name": "stderr",
     "output_type": "stream",
     "text": [
      "100%|██████████| 50/50 [01:21<00:00,  1.63s/it]\n"
     ]
    }
   ],
   "source": [
    "evaluations_2 = []\n",
    "\n",
    "for record in tqdm(samples):\n",
    "    prompt = prompt2_template.format(**record)\n",
    "    evaluation = llm(prompt, model='gpt-4o-mini')\n",
    "    evaluations_2.append(evaluation)"
   ]
  },
  {
   "cell_type": "code",
   "execution_count": 97,
   "id": "c00c22f5-fe31-4782-99ac-846249fc59b6",
   "metadata": {},
   "outputs": [],
   "source": [
    "json_evaluations_2 = []\n",
    "\n",
    "for i, str_eval in enumerate(evaluations_2):\n",
    "    json_eval = json.loads(str_eval)\n",
    "    json_evaluations_2.append(json_eval)"
   ]
  },
  {
   "cell_type": "code",
   "execution_count": 98,
   "id": "05c6d861-9d0c-41bb-a5db-454283c4b343",
   "metadata": {},
   "outputs": [],
   "source": [
    "df_evaluations_2 = pd.DataFrame(json_evaluations_2)"
   ]
  },
  {
   "cell_type": "code",
   "execution_count": 99,
   "id": "13de72b1",
   "metadata": {},
   "outputs": [
    {
     "data": {
      "text/plain": [
       "Relevance\n",
       "RELEVANT           41\n",
       "PARTLY_RELEVANT     7\n",
       "NON_RELEVANT        2\n",
       "Name: count, dtype: int64"
      ]
     },
     "execution_count": 99,
     "metadata": {},
     "output_type": "execute_result"
    }
   ],
   "source": [
    "df_evaluations_2.Relevance.value_counts()"
   ]
  },
  {
   "cell_type": "code",
   "execution_count": 100,
   "id": "09064866-d08c-4e0d-a095-44a9e8625bfb",
   "metadata": {},
   "outputs": [
    {
     "data": {
      "text/html": [
       "<div>\n",
       "<style scoped>\n",
       "    .dataframe tbody tr th:only-of-type {\n",
       "        vertical-align: middle;\n",
       "    }\n",
       "\n",
       "    .dataframe tbody tr th {\n",
       "        vertical-align: top;\n",
       "    }\n",
       "\n",
       "    .dataframe thead th {\n",
       "        text-align: right;\n",
       "    }\n",
       "</style>\n",
       "<table border=\"1\" class=\"dataframe\">\n",
       "  <thead>\n",
       "    <tr style=\"text-align: right;\">\n",
       "      <th></th>\n",
       "      <th>Relevance</th>\n",
       "      <th>Explanation</th>\n",
       "    </tr>\n",
       "  </thead>\n",
       "  <tbody>\n",
       "    <tr>\n",
       "      <th>45</th>\n",
       "      <td>NON_RELEVANT</td>\n",
       "      <td>The generated answer explicitly states that it...</td>\n",
       "    </tr>\n",
       "    <tr>\n",
       "      <th>49</th>\n",
       "      <td>NON_RELEVANT</td>\n",
       "      <td>The generated answer does not address the ques...</td>\n",
       "    </tr>\n",
       "  </tbody>\n",
       "</table>\n",
       "</div>"
      ],
      "text/plain": [
       "       Relevance                                        Explanation\n",
       "45  NON_RELEVANT  The generated answer explicitly states that it...\n",
       "49  NON_RELEVANT  The generated answer does not address the ques..."
      ]
     },
     "execution_count": 100,
     "metadata": {},
     "output_type": "execute_result"
    }
   ],
   "source": [
    "df_evaluations_2[df_evaluations_2.Relevance == 'NON_RELEVANT']"
   ]
  },
  {
   "cell_type": "code",
   "execution_count": 101,
   "id": "95af0004-e25c-4328-8d22-d48443470da0",
   "metadata": {},
   "outputs": [
    {
     "data": {
      "text/plain": [
       "{'answer_llm': 'The provided context does not include specific commands to start the Docker daemon on Linux. Therefore, I cannot provide an answer based solely on the facts from the context.',\n",
       " 'answer_orig': 'Working on getting Docker installed - when I try running hello-world I am getting the error.\\nDocker: Cannot connect to the docker daemon at unix:///var/run/docker.sock. Is the Docker daemon running ?\\nSolution description\\nIf you’re getting this error on WSL, re-install your docker: remove the docker installation from WSL and install Docker Desktop on your host machine (Windows).\\nOn Linux, start the docker daemon with either of these commands:\\nsudo dockerd\\nsudo service docker start\\nAdded by Ugochukwu Onyebuchi',\n",
       " 'document': '4b2a3181',\n",
       " 'question': 'What commands should I use to start the docker daemon on Linux?',\n",
       " 'course': 'machine-learning-zoomcamp',\n",
       " 'cosine': 0.5113021}"
      ]
     },
     "execution_count": 101,
     "metadata": {},
     "output_type": "execute_result"
    }
   ],
   "source": [
    "samples[45]"
   ]
  },
  {
   "cell_type": "markdown",
   "id": "2e515bdc-2a05-4934-800b-7e1ccc1652b5",
   "metadata": {},
   "source": [
    "## Saving all the data"
   ]
  },
  {
   "cell_type": "code",
   "execution_count": null,
   "id": "c5894357-bfc4-4c42-939b-3e8c052818a1",
   "metadata": {},
   "outputs": [],
   "source": [
    "# df_gpt4o.to_csv('data/results-gpt4o-cosine.csv', index=False)\n",
    "# df_gpt35.to_csv('data/results-gpt35-cosine.csv', index=False)\n",
    "# df_gpt4o_mini.to_csv('data/results-gpt4o-mini-cosine.csv', index=False)"
   ]
  },
  {
   "cell_type": "code",
   "execution_count": 103,
   "id": "255233a1-0719-4148-9281-047db698ad67",
   "metadata": {},
   "outputs": [],
   "source": [
    "df_evaluations.to_csv('evaluations-aqa.csv', index=False)\n",
    "df_evaluations_2.to_csv('evaluations-qa.csv', index=False)"
   ]
  }
 ],
 "metadata": {
  "kernelspec": {
   "display_name": "Python 3",
   "language": "python",
   "name": "python3"
  },
  "language_info": {
   "codemirror_mode": {
    "name": "ipython",
    "version": 3
   },
   "file_extension": ".py",
   "mimetype": "text/x-python",
   "name": "python",
   "nbconvert_exporter": "python",
   "pygments_lexer": "ipython3",
   "version": "3.12.1"
  }
 },
 "nbformat": 4,
 "nbformat_minor": 5
}
